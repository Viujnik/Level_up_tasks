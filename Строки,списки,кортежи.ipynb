{
 "cells": [
  {
   "cell_type": "markdown",
   "metadata": {
    "id": "1A0hJZwQuIBT"
   },
   "source": [
    " # Коллекции I. Строки, Списки, кортежи. Мутабельные и иммутабельные коллекции."
   ]
  },
  {
   "cell_type": "markdown",
   "metadata": {
    "id": "sTws4GbwS5YA"
   },
   "source": [
    "## Студенты-молодцы, решившие интерактив по парсингу\n",
    "\n",
    "1. @spTrent - https://gist.github.com/spTrent/66135ba1222a5947f53981b313c479a8\n",
    "2. @Ephirious -  https://github.com/Ephirious/python_parser/blob/main/main. (Хорошее выделение констант, и выделение функционала, DRY) (Прислал 4)\n",
    "3. @annll7 - https://github.com/larkovandrey2-dev/study_larkov/blob/study/mai/scraper.py\n",
    "4. @@monyzik - https://gist.github.com/Monyzik/ea2f00dd33484bd772df7991c2f54d5e\n",
    "5. @STEPZN - https://github.com/stepzak/primary-sources/blob/main/main.py (Красивое решение с использованием асинхронщины, логгингом и переменными окружения)\n",
    "6. @kebabulon - https://gist.github.com/kebabulon/1afbabd8ea90ef0e09383d0b6fd7cce5\n"
   ]
  },
  {
   "cell_type": "code",
   "execution_count": null,
   "metadata": {
    "id": "3nY8wmBEAurS"
   },
   "outputs": [],
   "source": []
  },
  {
   "cell_type": "markdown",
   "metadata": {
    "id": "k6AXwocMu-Af"
   },
   "source": [
    "## 1. Строки. Базовые операции.\n"
   ]
  },
  {
   "cell_type": "markdown",
   "metadata": {
    "id": "vti8AvfiD4tH"
   },
   "source": [
    "### План\n",
    "1. Литералы и базовые операции\n",
    "2. Экран‑последовательности и «сырые» строки\n",
    "3. Индексация, срезы, неизменяемость\n",
    "4. Методы `str` и полезные утилиты модуля `string`\n",
    "5. Юникод: кодовые точки, нормализация, регистры, `casefold`\n",
    "6. Эмодзи, составные символы, и почему `len()` не всегда «длина»\n",
    "7. Форматирование: f‑строки, mini‑language, `format`, `Template`\n",
    "8. Сортировка и сравнение строк — pitfalls\n",
    "9. Таблицы перевода: `str.maketrans()`, `translate()`\n",
    "10. Регулярные выражения (кратко) и альтернативы\n",
    "11. Текст: переносы, `textwrap`, отступы, `dedent`\n",
    "12. Байты vs строки: `bytes`, `bytearray`, кодировки, BOM\n",
    "13. Безопасность: `ast.literal_eval` vs `eval`, экранирование\n",
    "14. Частые баги и лайфхаки\n"
   ]
  },
  {
   "cell_type": "markdown",
   "metadata": {
    "id": "JJIKCyq3yrqv"
   },
   "source": [
    "### 1. Литералы и базовые операции"
   ]
  },
  {
   "cell_type": "code",
   "execution_count": null,
   "metadata": {
    "colab": {
     "base_uri": "https://localhost:8080/"
    },
    "executionInfo": {
     "elapsed": 20,
     "status": "ok",
     "timestamp": 1758716806371,
     "user": {
      "displayName": "Samir Akhmed",
      "userId": "13960222994132026390"
     },
     "user_tz": -180
    },
    "id": "4sK_5po-t8Fl",
    "outputId": "07eb346a-6f3d-4cd6-a7b9-730b2ea4a48e"
   },
   "outputs": [
    {
     "name": "stdout",
     "output_type": "stream",
     "text": [
      "hello | hello | многострочная\n",
      "строка | многострочная тоже | Более удобное форматирование\n",
      "\n",
      "abcd\n",
      "hahaha\n",
      "Он сказал: \"Привет!\"\n",
      "It's fine\n",
      "It's also fine\n",
      "P n 6\n"
     ]
    }
   ],
   "source": [
    "# Одинарные, двойные и тройные кавычки\n",
    "a = 'hello'\n",
    "b = \"hello\"\n",
    "c = \"\"\"\n",
    "многострочная\n",
    "строка\"\"\"\n",
    "\n",
    "d = \"\"\"многострочная тоже\"\"\"\n",
    "e = \"\"\"\\\n",
    "Более удобное форматирование\n",
    "\"\"\"\n",
    "\n",
    "print(a, b, c, d, e, sep=\" | \")\n",
    "\n",
    "# Конкатенация и повторение\n",
    "print(\"ab\" + \"cd\")\n",
    "print(\"ha\" * 3)\n",
    "\n",
    "# Встраивание кавычек\n",
    "print('Он сказал: \"Привет!\"')\n",
    "print(\"It's fine\")\n",
    "\n",
    "# Экранирование кавычек\n",
    "print('It\\'s also fine')\n",
    "\n",
    "\n",
    "# Индексация и длина (пока без Unicode тонкостей)\n",
    "s = \"Python\"\n",
    "print(s[0], s[-1], len(s))"
   ]
  },
  {
   "cell_type": "markdown",
   "metadata": {
    "id": "mk5TETrbzFw7"
   },
   "source": [
    "### 2. Экранирование и «сырые» строки"
   ]
  },
  {
   "cell_type": "code",
   "execution_count": null,
   "metadata": {
    "colab": {
     "base_uri": "https://localhost:8080/",
     "height": 106
    },
    "executionInfo": {
     "elapsed": 35,
     "status": "error",
     "timestamp": 1758717582972,
     "user": {
      "displayName": "Samir Akhmed",
      "userId": "13960222994132026390"
     },
     "user_tz": -180
    },
    "id": "8E7lBTHMyw3P",
    "outputId": "16ee3175-1a21-43ce-81d6-9e2199f68a29"
   },
   "outputs": [
    {
     "ename": "SyntaxError",
     "evalue": "unterminated string literal (detected at line 10) (ipython-input-244363659.py, line 10)",
     "output_type": "error",
     "traceback": [
      "\u001b[0;36m  File \u001b[0;32m\"/tmp/ipython-input-244363659.py\"\u001b[0;36m, line \u001b[0;32m10\u001b[0m\n\u001b[0;31m    r\"\\\"  # SyntaxError\u001b[0m\n\u001b[0m    ^\u001b[0m\n\u001b[0;31mSyntaxError\u001b[0m\u001b[0;31m:\u001b[0m unterminated string literal (detected at line 10)\n"
     ]
    }
   ],
   "source": [
    "\n",
    "# Частые escape-последовательности\n",
    "print(\"Строка с переводом строки:\\nи табуляцией:\\tОК\")\n",
    "print(\"Backslash: \\\\\")\n",
    "\n",
    "# Сырые строки r\"...\" не интерпретируют обратные слеши как escapes\n",
    "path = r\"C:\\Users\\student\\new_folder\\file.txt\"\n",
    "print(path)\n",
    "\n",
    "# Но помните: сырая строка не может заканчиваться одинарным обратным слешом\n",
    "r\"\\\"  # SyntaxError\n"
   ]
  },
  {
   "cell_type": "markdown",
   "metadata": {
    "id": "1bKlnvrSzVTt"
   },
   "source": [
    "### 3. Индексация, срезы, неизменяемость"
   ]
  },
  {
   "cell_type": "code",
   "execution_count": null,
   "metadata": {
    "colab": {
     "base_uri": "https://localhost:8080/",
     "height": 139
    },
    "executionInfo": {
     "elapsed": 22,
     "status": "ok",
     "timestamp": 1758718202297,
     "user": {
      "displayName": "Samir Akhmed",
      "userId": "13960222994132026390"
     },
     "user_tz": -180
    },
    "id": "fX3tWKtdzQXX",
    "outputId": "b1b3572b-9a98-49f0-9f13-9d843cbbf1c7"
   },
   "outputs": [
    {
     "name": "stdout",
     "output_type": "stream",
     "text": [
      "s[1:4] -> bcd\n",
      "s[:3] -> abc\n",
      "s[::2] -> ace\n",
      "s[::-1] (reverse) -> fedcba\n",
      "TypeError (ожидаемо): 'str' object does not support item assignment\n",
      "Новая строка: Xbcdef\n"
     ]
    },
    {
     "data": {
      "application/vnd.google.colaboratory.intrinsic+json": {
       "type": "string"
      },
      "text/plain": [
       "'bcd'"
      ]
     },
     "execution_count": 6,
     "metadata": {},
     "output_type": "execute_result"
    }
   ],
   "source": [
    "s = \"ababcdefababcdefcdefababcdefcdefcdef\"\n",
    "print(\"s[1:4] ->\", s[1:4])\n",
    "print(\"s[:3] ->\", s[:3])\n",
    "print(\"s[::2] ->\", s[::2])\n",
    "print(\"s[::-1] (reverse) ->\", s[::-1])\n",
    "\n",
    "# Неизменяемость: заменить символ можно только создав новую строку\n",
    "try:\n",
    "    s[0] = \"X\"\n",
    "except TypeError as e:\n",
    "    print(\"TypeError (ожидаемо):\", e)\n",
    "\n",
    "s2 = \"X\" + s[1:]\n",
    "print(\"Новая строка:\", s2)\n",
    "\n",
    "\n",
    "GOIDA = slice(1, 4)\n",
    "\n",
    "\n",
    "RULETKA = slice(None, None, 2)\n",
    "\n",
    "\n",
    "s.__getitem__(GOIDA)"
   ]
  },
  {
   "cell_type": "markdown",
   "metadata": {
    "id": "VCuvs6jT0ABU"
   },
   "source": [
    "### 4. Методы `str` и модуль `string`\n",
    "\n",
    "Модуль string — это часть стандартной библиотеки Python, которая даёт готовые константы и некоторые вспомогательные классы/функции для работы со строками.\n",
    "\n",
    "Обычно его используют, чтобы не «хардкодить» алфавиты, цифры и наборы символов.\n",
    "\n",
    "Где реально полезно\n",
    "\n",
    "- Генерация случайных паролей:\n",
    "```python\n",
    "import string, random\n",
    "chars = string.ascii_letters + string.digits + string.punctuation\n",
    "password = ''.join(random.choice(chars) for _ in range(12))\n",
    "print(password)\n",
    "```\n",
    "\n",
    "\n",
    "- Очистка текста от лишних символов (например, оставить только буквы/цифры).\n",
    "\n",
    "- Построение простых шаблонов сообщений (когда нельзя доверять .format или eval).\n",
    "\n",
    "- Быстрое приведение текста к «человеческому» виду (capwords)."
   ]
  },
  {
   "cell_type": "code",
   "execution_count": null,
   "metadata": {
    "colab": {
     "base_uri": "https://localhost:8080/"
    },
    "executionInfo": {
     "elapsed": 20,
     "status": "ok",
     "timestamp": 1758651782571,
     "user": {
      "displayName": "Samir Akhmed",
      "userId": "13960222994132026390"
     },
     "user_tz": -180
    },
    "id": "_0aaZsE2zgcG",
    "outputId": "ad886319-c57a-4291-ea94-43ac5cd2bb89"
   },
   "outputs": [
    {
     "name": "stdout",
     "output_type": "stream",
     "text": [
      "strip/lstrip/rstrip: Hello, World! | Hello, World!   |   Hello, World!\n",
      "upper/lower/title/capitalize:   HELLO, WORLD!   |   hello, world!   |   Hello, World!   |   hello, world!  \n",
      "replace: 2025/09/23\n",
      "split/splitlines: ['a', 'b', '', 'c'] | ['line1', 'line2']\n",
      "join: 2025-09-23\n",
      "startswith/endswith: True | True\n",
      "find/index/count: 1 | 1 | 2\n",
      "isdigit/isalpha/isalnum/isspace: True True True True\n",
      "ascii_letters: abcdefghij ...\n",
      "digits: 0123456789\n",
      "punctuation: !\"#$%&'()*+,-./:;<=>?@[\\]^_`{|}~\n"
     ]
    }
   ],
   "source": [
    "import string\n",
    "\n",
    "sample = \"  Hello, World!  \"\n",
    "print(\"strip/lstrip/rstrip:\", sample.strip(), \"|\", sample.lstrip(), \"|\", sample.rstrip())\n",
    "\n",
    "print(\"upper/lower/title/capitalize:\", sample.upper(), \"|\", sample.lower(), \"|\", sample.title(), \"|\", sample.capitalize())\n",
    "print(\"replace:\", \"2025-09-23\".replace(\"-\", \"/\"))\n",
    "\n",
    "print(\"split/splitlines:\", \"a,b,,c\".split(\",\"), \"|\", \"line1\\nline2\".splitlines())\n",
    "print(\"join:\", \"-\".join([\"2025\", \"09\", \"23\"]))\n",
    "\n",
    "print(\"startswith/endswith:\", \"hello.py\".endswith(\".py\"), \"|\", \"README.md\".startswith(\"READ\"))\n",
    "\n",
    "# Поиск\n",
    "text = \"abracadabra\"\n",
    "print(\"find/index/count:\", text.find(\"bra\"), \"|\", text.index(\"bra\"), \"|\", text.count(\"bra\"))\n",
    "\n",
    "# Проверки\n",
    "print(\"isdigit/isalpha/isalnum/isspace:\", \"123\".isdigit(), \"abc\".isalpha(), \"abc123\".isalnum(), \"  \\t\\n\".isspace())\n",
    "\n",
    "# Константы из string\n",
    "print(\"ascii_letters:\", string.ascii_letters[:10], \"...\")\n",
    "print(\"digits:\", string.digits)\n",
    "print(\"punctuation:\", string.punctuation)"
   ]
  },
  {
   "cell_type": "code",
   "execution_count": null,
   "metadata": {
    "colab": {
     "base_uri": "https://localhost:8080/"
    },
    "executionInfo": {
     "elapsed": 10,
     "status": "ok",
     "timestamp": 1758718848657,
     "user": {
      "displayName": "Samir Akhmed",
      "userId": "13960222994132026390"
     },
     "user_tz": -180
    },
    "id": "1CF6Bw-xz1rD",
    "outputId": "08ba169e-debc-4268-a5f5-f37e132f4d03"
   },
   "outputs": [
    {
     "data": {
      "text/plain": [
       "97"
      ]
     },
     "execution_count": 10,
     "metadata": {},
     "output_type": "execute_result"
    }
   ],
   "source": [
    "import string\n",
    "string.ascii_letters\n",
    "ord(string.ascii_letters[0])\n",
    "\n",
    "\n",
    "a =  [0]* 26\n",
    "\n",
    "a[ord(c) - ord('a') for c in string.ascii_letters]"
   ]
  },
  {
   "cell_type": "markdown",
   "metadata": {
    "id": "qr_4Muju07aD"
   },
   "source": [
    "#### Более детально про string и бенчмаркинг"
   ]
  },
  {
   "cell_type": "code",
   "execution_count": null,
   "metadata": {
    "colab": {
     "base_uri": "https://localhost:8080/"
    },
    "executionInfo": {
     "elapsed": 12,
     "status": "ok",
     "timestamp": 1758719067751,
     "user": {
      "displayName": "Samir Akhmed",
      "userId": "13960222994132026390"
     },
     "user_tz": -180
    },
    "id": "IKXGlQPm0JSw",
    "outputId": "a8b26f76-0ac2-45e1-b979-3d9303a6dcbc"
   },
   "outputs": [
    {
     "name": "stdout",
     "output_type": "stream",
     "text": [
      "digits: 0123456789\n",
      "punctuation: !\"#$%&'()*+,-./:;<=>?@[\\]^_`{|}~\n",
      "Hello World Its—amazing right 42 times\n",
      "title(): Hello   World!  Python\n",
      "capwords(): Hello World! Python\n",
      "token: MJZHWtLRsZo3T6GRc37Phto7\n"
     ]
    }
   ],
   "source": [
    "import string\n",
    "\n",
    "s = \"Hello, World! It's—amazing; right? 42 times.\"\n",
    "print(\"digits:\", string.digits)\n",
    "print(\"punctuation:\", string.punctuation)\n",
    "\n",
    "# Удаление пунктуации переводом\n",
    "table = str.maketrans(\"\", \"\", string.punctuation)\n",
    "print(s.translate(table))\n",
    "\n",
    "# capwords vs title\n",
    "import string as _string\n",
    "print(\"title():\", \"hello   world!  python\".title())\n",
    "print(\"capwords():\", _string.capwords(\"hello   world!  python\"))\n",
    "\n",
    "# Генератор безопасного токена (только буквенно-цифровые)\n",
    "import secrets\n",
    "alphabet = string.ascii_letters + string.digits\n",
    "token = ''.join(secrets.choice(alphabet) for _ in range(24))\n",
    "print(\"token:\", token)"
   ]
  },
  {
   "cell_type": "markdown",
   "metadata": {
    "id": "MYNyhE4d1LS1"
   },
   "source": [
    "##### Бенчмарки `timeit`\n"
   ]
  },
  {
   "cell_type": "markdown",
   "metadata": {
    "id": "KBt6yWa81QlX"
   },
   "source": [
    "###### `join` vs `+=` для конкатенации многих строк"
   ]
  },
  {
   "cell_type": "code",
   "execution_count": null,
   "metadata": {
    "colab": {
     "base_uri": "https://localhost:8080/"
    },
    "executionInfo": {
     "elapsed": 66,
     "status": "ok",
     "timestamp": 1758719295100,
     "user": {
      "displayName": "YALAMA",
      "userId": "01395389297784515796"
     },
     "user_tz": -180
    },
    "id": "FLeLSiMb1FfN",
    "outputId": "74f9195e-0797-49f9-e2f2-4d4342b0b65f"
   },
   "outputs": [
    {
     "name": "stdout",
     "output_type": "stream",
     "text": [
      "'+=': 0.0108s | 'join': 0.0008s\n"
     ]
    }
   ],
   "source": [
    "import timeit\n",
    "\n",
    "setup = \"items = [str(i) for i in range(10000)]\"\n",
    "t_plus = timeit.timeit(\"s='';\\nfor x in items:\\n    s+=x\", setup=setup, number=5)\n",
    "t_join = timeit.timeit(\"''.join(items)\", setup=setup, number=5)\n",
    "print(f\"'+=': {t_plus:.4f}s | 'join': {t_join:.4f}s\")\n"
   ]
  },
  {
   "cell_type": "code",
   "execution_count": null,
   "metadata": {
    "id": "73_Wu4R25K7g"
   },
   "outputs": [],
   "source": [
    "items = [str(i) for i in range(100000)]"
   ]
  },
  {
   "cell_type": "code",
   "execution_count": null,
   "metadata": {
    "colab": {
     "base_uri": "https://localhost:8080/",
     "height": 356
    },
    "executionInfo": {
     "elapsed": 177,
     "status": "error",
     "timestamp": 1758719285110,
     "user": {
      "displayName": "YALAMA",
      "userId": "01395389297784515796"
     },
     "user_tz": -180
    },
    "id": "x5N_hz7k1UN5",
    "outputId": "bb53a6f9-4b12-4f3d-f37f-894d3c57d688"
   },
   "outputs": [
    {
     "ename": "NameError",
     "evalue": "name 'items' is not defined",
     "output_type": "error",
     "traceback": [
      "\u001b[0;31m---------------------------------------------------------------------------\u001b[0m",
      "\u001b[0;31mNameError\u001b[0m                                 Traceback (most recent call last)",
      "\u001b[0;32m/tmp/ipython-input-3573756661.py\u001b[0m in \u001b[0;36m<cell line: 0>\u001b[0;34m()\u001b[0m\n\u001b[0;32m----> 1\u001b[0;31m \u001b[0mget_ipython\u001b[0m\u001b[0;34m(\u001b[0m\u001b[0;34m)\u001b[0m\u001b[0;34m.\u001b[0m\u001b[0mrun_cell_magic\u001b[0m\u001b[0;34m(\u001b[0m\u001b[0;34m'timeit'\u001b[0m\u001b[0;34m,\u001b[0m \u001b[0;34m''\u001b[0m\u001b[0;34m,\u001b[0m \u001b[0;34m\"s=''\\nfor x in items:\\n  s+=x\\n\"\u001b[0m\u001b[0;34m)\u001b[0m\u001b[0;34m\u001b[0m\u001b[0;34m\u001b[0m\u001b[0m\n\u001b[0m",
      "\u001b[0;32m/usr/local/lib/python3.12/dist-packages/google/colab/_shell.py\u001b[0m in \u001b[0;36mrun_cell_magic\u001b[0;34m(self, magic_name, line, cell)\u001b[0m\n\u001b[1;32m    274\u001b[0m     \u001b[0;32mif\u001b[0m \u001b[0mline\u001b[0m \u001b[0;32mand\u001b[0m \u001b[0;32mnot\u001b[0m \u001b[0mcell\u001b[0m\u001b[0;34m:\u001b[0m\u001b[0;34m\u001b[0m\u001b[0;34m\u001b[0m\u001b[0m\n\u001b[1;32m    275\u001b[0m       \u001b[0mcell\u001b[0m \u001b[0;34m=\u001b[0m \u001b[0;34m' '\u001b[0m\u001b[0;34m\u001b[0m\u001b[0;34m\u001b[0m\u001b[0m\n\u001b[0;32m--> 276\u001b[0;31m     \u001b[0;32mreturn\u001b[0m \u001b[0msuper\u001b[0m\u001b[0;34m(\u001b[0m\u001b[0;34m)\u001b[0m\u001b[0;34m.\u001b[0m\u001b[0mrun_cell_magic\u001b[0m\u001b[0;34m(\u001b[0m\u001b[0mmagic_name\u001b[0m\u001b[0;34m,\u001b[0m \u001b[0mline\u001b[0m\u001b[0;34m,\u001b[0m \u001b[0mcell\u001b[0m\u001b[0;34m)\u001b[0m\u001b[0;34m\u001b[0m\u001b[0;34m\u001b[0m\u001b[0m\n\u001b[0m\u001b[1;32m    277\u001b[0m \u001b[0;34m\u001b[0m\u001b[0m\n\u001b[1;32m    278\u001b[0m \u001b[0;34m\u001b[0m\u001b[0m\n",
      "\u001b[0;32m/usr/local/lib/python3.12/dist-packages/IPython/core/interactiveshell.py\u001b[0m in \u001b[0;36mrun_cell_magic\u001b[0;34m(self, magic_name, line, cell)\u001b[0m\n\u001b[1;32m   2471\u001b[0m             \u001b[0;32mwith\u001b[0m \u001b[0mself\u001b[0m\u001b[0;34m.\u001b[0m\u001b[0mbuiltin_trap\u001b[0m\u001b[0;34m:\u001b[0m\u001b[0;34m\u001b[0m\u001b[0;34m\u001b[0m\u001b[0m\n\u001b[1;32m   2472\u001b[0m                 \u001b[0margs\u001b[0m \u001b[0;34m=\u001b[0m \u001b[0;34m(\u001b[0m\u001b[0mmagic_arg_s\u001b[0m\u001b[0;34m,\u001b[0m \u001b[0mcell\u001b[0m\u001b[0;34m)\u001b[0m\u001b[0;34m\u001b[0m\u001b[0;34m\u001b[0m\u001b[0m\n\u001b[0;32m-> 2473\u001b[0;31m                 \u001b[0mresult\u001b[0m \u001b[0;34m=\u001b[0m \u001b[0mfn\u001b[0m\u001b[0;34m(\u001b[0m\u001b[0;34m*\u001b[0m\u001b[0margs\u001b[0m\u001b[0;34m,\u001b[0m \u001b[0;34m**\u001b[0m\u001b[0mkwargs\u001b[0m\u001b[0;34m)\u001b[0m\u001b[0;34m\u001b[0m\u001b[0;34m\u001b[0m\u001b[0m\n\u001b[0m\u001b[1;32m   2474\u001b[0m             \u001b[0;32mreturn\u001b[0m \u001b[0mresult\u001b[0m\u001b[0;34m\u001b[0m\u001b[0;34m\u001b[0m\u001b[0m\n\u001b[1;32m   2475\u001b[0m \u001b[0;34m\u001b[0m\u001b[0m\n",
      "\u001b[0;32m<decorator-gen-53>\u001b[0m in \u001b[0;36mtimeit\u001b[0;34m(self, line, cell, local_ns)\u001b[0m\n",
      "\u001b[0;32m/usr/local/lib/python3.12/dist-packages/IPython/core/magic.py\u001b[0m in \u001b[0;36m<lambda>\u001b[0;34m(f, *a, **k)\u001b[0m\n\u001b[1;32m    185\u001b[0m     \u001b[0;31m# but it's overkill for just that one bit of state.\u001b[0m\u001b[0;34m\u001b[0m\u001b[0;34m\u001b[0m\u001b[0m\n\u001b[1;32m    186\u001b[0m     \u001b[0;32mdef\u001b[0m \u001b[0mmagic_deco\u001b[0m\u001b[0;34m(\u001b[0m\u001b[0marg\u001b[0m\u001b[0;34m)\u001b[0m\u001b[0;34m:\u001b[0m\u001b[0;34m\u001b[0m\u001b[0;34m\u001b[0m\u001b[0m\n\u001b[0;32m--> 187\u001b[0;31m         \u001b[0mcall\u001b[0m \u001b[0;34m=\u001b[0m \u001b[0;32mlambda\u001b[0m \u001b[0mf\u001b[0m\u001b[0;34m,\u001b[0m \u001b[0;34m*\u001b[0m\u001b[0ma\u001b[0m\u001b[0;34m,\u001b[0m \u001b[0;34m**\u001b[0m\u001b[0mk\u001b[0m\u001b[0;34m:\u001b[0m \u001b[0mf\u001b[0m\u001b[0;34m(\u001b[0m\u001b[0;34m*\u001b[0m\u001b[0ma\u001b[0m\u001b[0;34m,\u001b[0m \u001b[0;34m**\u001b[0m\u001b[0mk\u001b[0m\u001b[0;34m)\u001b[0m\u001b[0;34m\u001b[0m\u001b[0;34m\u001b[0m\u001b[0m\n\u001b[0m\u001b[1;32m    188\u001b[0m \u001b[0;34m\u001b[0m\u001b[0m\n\u001b[1;32m    189\u001b[0m         \u001b[0;32mif\u001b[0m \u001b[0mcallable\u001b[0m\u001b[0;34m(\u001b[0m\u001b[0marg\u001b[0m\u001b[0;34m)\u001b[0m\u001b[0;34m:\u001b[0m\u001b[0;34m\u001b[0m\u001b[0;34m\u001b[0m\u001b[0m\n",
      "\u001b[0;32m/usr/local/lib/python3.12/dist-packages/IPython/core/magics/execution.py\u001b[0m in \u001b[0;36mtimeit\u001b[0;34m(self, line, cell, local_ns)\u001b[0m\n\u001b[1;32m   1178\u001b[0m             \u001b[0;32mfor\u001b[0m \u001b[0mindex\u001b[0m \u001b[0;32min\u001b[0m \u001b[0mrange\u001b[0m\u001b[0;34m(\u001b[0m\u001b[0;36m0\u001b[0m\u001b[0;34m,\u001b[0m \u001b[0;36m10\u001b[0m\u001b[0;34m)\u001b[0m\u001b[0;34m:\u001b[0m\u001b[0;34m\u001b[0m\u001b[0;34m\u001b[0m\u001b[0m\n\u001b[1;32m   1179\u001b[0m                 \u001b[0mnumber\u001b[0m \u001b[0;34m=\u001b[0m \u001b[0;36m10\u001b[0m \u001b[0;34m**\u001b[0m \u001b[0mindex\u001b[0m\u001b[0;34m\u001b[0m\u001b[0;34m\u001b[0m\u001b[0m\n\u001b[0;32m-> 1180\u001b[0;31m                 \u001b[0mtime_number\u001b[0m \u001b[0;34m=\u001b[0m \u001b[0mtimer\u001b[0m\u001b[0;34m.\u001b[0m\u001b[0mtimeit\u001b[0m\u001b[0;34m(\u001b[0m\u001b[0mnumber\u001b[0m\u001b[0;34m)\u001b[0m\u001b[0;34m\u001b[0m\u001b[0;34m\u001b[0m\u001b[0m\n\u001b[0m\u001b[1;32m   1181\u001b[0m                 \u001b[0;32mif\u001b[0m \u001b[0mtime_number\u001b[0m \u001b[0;34m>=\u001b[0m \u001b[0;36m0.2\u001b[0m\u001b[0;34m:\u001b[0m\u001b[0;34m\u001b[0m\u001b[0;34m\u001b[0m\u001b[0m\n\u001b[1;32m   1182\u001b[0m                     \u001b[0;32mbreak\u001b[0m\u001b[0;34m\u001b[0m\u001b[0;34m\u001b[0m\u001b[0m\n",
      "\u001b[0;32m/usr/local/lib/python3.12/dist-packages/IPython/core/magics/execution.py\u001b[0m in \u001b[0;36mtimeit\u001b[0;34m(self, number)\u001b[0m\n\u001b[1;32m    167\u001b[0m         \u001b[0mgc\u001b[0m\u001b[0;34m.\u001b[0m\u001b[0mdisable\u001b[0m\u001b[0;34m(\u001b[0m\u001b[0;34m)\u001b[0m\u001b[0;34m\u001b[0m\u001b[0;34m\u001b[0m\u001b[0m\n\u001b[1;32m    168\u001b[0m         \u001b[0;32mtry\u001b[0m\u001b[0;34m:\u001b[0m\u001b[0;34m\u001b[0m\u001b[0;34m\u001b[0m\u001b[0m\n\u001b[0;32m--> 169\u001b[0;31m             \u001b[0mtiming\u001b[0m \u001b[0;34m=\u001b[0m \u001b[0mself\u001b[0m\u001b[0;34m.\u001b[0m\u001b[0minner\u001b[0m\u001b[0;34m(\u001b[0m\u001b[0mit\u001b[0m\u001b[0;34m,\u001b[0m \u001b[0mself\u001b[0m\u001b[0;34m.\u001b[0m\u001b[0mtimer\u001b[0m\u001b[0;34m)\u001b[0m\u001b[0;34m\u001b[0m\u001b[0;34m\u001b[0m\u001b[0m\n\u001b[0m\u001b[1;32m    170\u001b[0m         \u001b[0;32mfinally\u001b[0m\u001b[0;34m:\u001b[0m\u001b[0;34m\u001b[0m\u001b[0;34m\u001b[0m\u001b[0m\n\u001b[1;32m    171\u001b[0m             \u001b[0;32mif\u001b[0m \u001b[0mgcold\u001b[0m\u001b[0;34m:\u001b[0m\u001b[0;34m\u001b[0m\u001b[0;34m\u001b[0m\u001b[0m\n",
      "\u001b[0;32m<magic-timeit>\u001b[0m in \u001b[0;36minner\u001b[0;34m(_it, _timer)\u001b[0m\n",
      "\u001b[0;31mNameError\u001b[0m: name 'items' is not defined"
     ]
    }
   ],
   "source": [
    "%%timeit\n",
    "s=''\n",
    "for x in items:\n",
    "  s+=x"
   ]
  },
  {
   "cell_type": "code",
   "execution_count": null,
   "metadata": {
    "colab": {
     "base_uri": "https://localhost:8080/"
    },
    "executionInfo": {
     "elapsed": 7357,
     "status": "ok",
     "timestamp": 1758653123253,
     "user": {
      "displayName": "Samir Akhmed",
      "userId": "13960222994132026390"
     },
     "user_tz": -180
    },
    "id": "H9pjOKnf1gw6",
    "outputId": "153d09a9-6004-4231-c52f-4075ce47622b"
   },
   "outputs": [
    {
     "name": "stdout",
     "output_type": "stream",
     "text": [
      "911 µs ± 7.06 µs per loop (mean ± std. dev. of 7 runs, 1000 loops each)\n"
     ]
    }
   ],
   "source": [
    "%%timeit\n",
    "''.join(items)"
   ]
  },
  {
   "cell_type": "markdown",
   "metadata": {
    "id": "-GDJOPxK2CbX"
   },
   "source": [
    "###### `replace` цепочкой vs `translate` с таблицей"
   ]
  },
  {
   "cell_type": "code",
   "execution_count": null,
   "metadata": {
    "id": "s2X8FSbp1nM1"
   },
   "outputs": [],
   "source": [
    "import timeit, string\n",
    "src = \"Hello, World! It's—amazing; right? 42 times.\" * 1000\n",
    "\n",
    "table = str.maketrans({ord('!'):None, ord('?'):None, ord(';'):None, ord('—'):None, ord(','):None, ord(\"'\"):None})\n",
    "\n",
    "def via_translate(s):\n",
    "    return s.translate(table)\n",
    "\n",
    "def via_replace(s):\n",
    "    for ch in \"!?;—,'\":\n",
    "        s = s.replace(ch, '')\n",
    "    return s\n"
   ]
  },
  {
   "cell_type": "code",
   "execution_count": null,
   "metadata": {
    "colab": {
     "base_uri": "https://localhost:8080/"
    },
    "executionInfo": {
     "elapsed": 3425,
     "status": "ok",
     "timestamp": 1758652368570,
     "user": {
      "displayName": "Samir Akhmed",
      "userId": "13960222994132026390"
     },
     "user_tz": -180
    },
    "id": "ZyI69V_n2XUl",
    "outputId": "32a1d6e7-459c-4bef-ddc1-6da3e3608385"
   },
   "outputs": [
    {
     "name": "stdout",
     "output_type": "stream",
     "text": [
      "translate(): 3.2274s | replace-chain: 0.2173s\n"
     ]
    }
   ],
   "source": [
    "t_tr = timeit.timeit(\"via_translate(src)\", globals=globals(), number=500)\n",
    "t_rep = timeit.timeit(\"via_replace(src)\", globals=globals(), number=500)\n",
    "print(f\"translate(): {t_tr:.4f}s | replace-chain: {t_rep:.4f}s\")"
   ]
  },
  {
   "cell_type": "code",
   "execution_count": null,
   "metadata": {
    "colab": {
     "base_uri": "https://localhost:8080/"
    },
    "executionInfo": {
     "elapsed": 6781,
     "status": "ok",
     "timestamp": 1758652331938,
     "user": {
      "displayName": "Samir Akhmed",
      "userId": "13960222994132026390"
     },
     "user_tz": -180
    },
    "id": "TaKOEJh72FKz",
    "outputId": "d6a1c522-8459-48cd-d4b1-ea91a9f4c6d9"
   },
   "outputs": [
    {
     "name": "stdout",
     "output_type": "stream",
     "text": [
      "8.41 ms ± 2.21 ms per loop (mean ± std. dev. of 7 runs, 100 loops each)\n"
     ]
    }
   ],
   "source": [
    "%%timeit\n",
    "via_translate(src)"
   ]
  },
  {
   "cell_type": "code",
   "execution_count": null,
   "metadata": {
    "colab": {
     "base_uri": "https://localhost:8080/"
    },
    "executionInfo": {
     "elapsed": 4198,
     "status": "ok",
     "timestamp": 1758652343174,
     "user": {
      "displayName": "Samir Akhmed",
      "userId": "13960222994132026390"
     },
     "user_tz": -180
    },
    "id": "ojYzyCVZ2Nwq",
    "outputId": "36b13c87-fb05-47dd-fb71-d26e91da509d"
   },
   "outputs": [
    {
     "name": "stdout",
     "output_type": "stream",
     "text": [
      "475 µs ± 129 µs per loop (mean ± std. dev. of 7 runs, 1000 loops each)\n"
     ]
    }
   ],
   "source": [
    "%%timeit\n",
    "via_replace(src)"
   ]
  },
  {
   "cell_type": "markdown",
   "metadata": {
    "id": "-lmvR5ac3EFn"
   },
   "source": [
    "###### `in` vs `.find()` для проверки подстроки"
   ]
  },
  {
   "cell_type": "code",
   "execution_count": null,
   "metadata": {
    "colab": {
     "base_uri": "https://localhost:8080/"
    },
    "executionInfo": {
     "elapsed": 4860,
     "status": "ok",
     "timestamp": 1758652679879,
     "user": {
      "displayName": "Samir Akhmed",
      "userId": "13960222994132026390"
     },
     "user_tz": -180
    },
    "id": "TRz1Oh1p3HKt",
    "outputId": "1e43b713-4e53-4208-8055-cd5cd9cef7ee"
   },
   "outputs": [
    {
     "name": "stdout",
     "output_type": "stream",
     "text": [
      "'in': 2.2769s | find()!=-1: 2.5235s\n"
     ]
    }
   ],
   "source": [
    "text = \"abc\" * 100000 + \"XYZ\"\n",
    "t_in = timeit.timeit(\"'XYZ' in text\", globals=globals(), number=20000)\n",
    "t_find = timeit.timeit(\"text.find('XYZ') != -1\", globals=globals(), number=20000)\n",
    "print(f\"'in': {t_in:.4f}s | find()!=-1: {t_find:.4f}s\")\n"
   ]
  },
  {
   "cell_type": "code",
   "execution_count": null,
   "metadata": {
    "colab": {
     "base_uri": "https://localhost:8080/"
    },
    "executionInfo": {
     "elapsed": 9309,
     "status": "ok",
     "timestamp": 1758652689192,
     "user": {
      "displayName": "Samir Akhmed",
      "userId": "13960222994132026390"
     },
     "user_tz": -180
    },
    "id": "t2pwRQO-3K8d",
    "outputId": "5cdc5f31-f7c6-4506-d8cc-bb0f64bc99d8"
   },
   "outputs": [
    {
     "name": "stdout",
     "output_type": "stream",
     "text": [
      "113 µs ± 568 ns per loop (mean ± std. dev. of 7 runs, 10000 loops each)\n"
     ]
    }
   ],
   "source": [
    "%%timeit\n",
    "'XYZ' in text"
   ]
  },
  {
   "cell_type": "code",
   "execution_count": null,
   "metadata": {
    "colab": {
     "base_uri": "https://localhost:8080/"
    },
    "executionInfo": {
     "elapsed": 7999,
     "status": "ok",
     "timestamp": 1758652697193,
     "user": {
      "displayName": "Samir Akhmed",
      "userId": "13960222994132026390"
     },
     "user_tz": -180
    },
    "id": "Ygps-ToX3WTV",
    "outputId": "81c1e372-88e7-4253-af57-1d4f2710b78f"
   },
   "outputs": [
    {
     "name": "stdout",
     "output_type": "stream",
     "text": [
      "100 µs ± 23.3 µs per loop (mean ± std. dev. of 7 runs, 10000 loops each)\n"
     ]
    }
   ],
   "source": [
    "%%timeit\n",
    "text.find('XYZ') != -1"
   ]
  },
  {
   "cell_type": "markdown",
   "metadata": {
    "id": "tewBL-a93nHx"
   },
   "source": [
    "###### Case-insensitive сравнение: `.lower()` vs `.casefold()`"
   ]
  },
  {
   "cell_type": "code",
   "execution_count": null,
   "metadata": {
    "colab": {
     "base_uri": "https://localhost:8080/"
    },
    "executionInfo": {
     "elapsed": 1989,
     "status": "ok",
     "timestamp": 1758652719238,
     "user": {
      "displayName": "Samir Akhmed",
      "userId": "13960222994132026390"
     },
     "user_tz": -180
    },
    "id": "_JhzHWKg3YHV",
    "outputId": "85f5dccb-5aee-4f24-aa5e-9387798af2b5"
   },
   "outputs": [
    {
     "name": "stdout",
     "output_type": "stream",
     "text": [
      "lower(): 0.7596s | casefold(): 1.2322s\n"
     ]
    }
   ],
   "source": [
    "words = [\"Straße\", \"CAFÉ\", \"mañana\", \"İstanbul\"] * 5000\n",
    "\n",
    "t_lower = timeit.timeit(\"[w.lower()== 'straße' for w in words]\", globals=globals(), number=200)\n",
    "t_casefold = timeit.timeit(\"[w.casefold()== 'straße'.casefold() for w in words]\", globals=globals(), number=200)\n",
    "print(f\"lower(): {t_lower:.4f}s | casefold(): {t_casefold:.4f}s\")"
   ]
  },
  {
   "cell_type": "code",
   "execution_count": null,
   "metadata": {
    "colab": {
     "base_uri": "https://localhost:8080/"
    },
    "executionInfo": {
     "elapsed": 2457,
     "status": "ok",
     "timestamp": 1758652756835,
     "user": {
      "displayName": "Samir Akhmed",
      "userId": "13960222994132026390"
     },
     "user_tz": -180
    },
    "id": "5Ow0hg_s3tdl",
    "outputId": "2caf63fe-0a9c-4649-de67-8584a7f25d64"
   },
   "outputs": [
    {
     "name": "stdout",
     "output_type": "stream",
     "text": [
      "3.07 ms ± 124 µs per loop (mean ± std. dev. of 7 runs, 100 loops each)\n"
     ]
    }
   ],
   "source": [
    "%%timeit\n",
    "[w.lower()== 'straße' for w in words]"
   ]
  },
  {
   "cell_type": "code",
   "execution_count": null,
   "metadata": {
    "colab": {
     "base_uri": "https://localhost:8080/"
    },
    "executionInfo": {
     "elapsed": 5981,
     "status": "ok",
     "timestamp": 1758652754373,
     "user": {
      "displayName": "Samir Akhmed",
      "userId": "13960222994132026390"
     },
     "user_tz": -180
    },
    "id": "moeuH6Hy3yDd",
    "outputId": "77cd7549-d35c-4736-ba65-48083d3ae200"
   },
   "outputs": [
    {
     "name": "stdout",
     "output_type": "stream",
     "text": [
      "7.52 ms ± 1.96 ms per loop (mean ± std. dev. of 7 runs, 100 loops each)\n"
     ]
    }
   ],
   "source": [
    "%%timeit\n",
    "[w.casefold()== 'straße'.casefold() for w in words]"
   ]
  },
  {
   "cell_type": "markdown",
   "metadata": {
    "id": "ZmAMDqu638Wm"
   },
   "source": [
    "###### Начало/окончание: `.startswith(tuple)` vs `any()`"
   ]
  },
  {
   "cell_type": "code",
   "execution_count": null,
   "metadata": {
    "colab": {
     "base_uri": "https://localhost:8080/"
    },
    "executionInfo": {
     "elapsed": 2185,
     "status": "ok",
     "timestamp": 1758652791973,
     "user": {
      "displayName": "Samir Akhmed",
      "userId": "13960222994132026390"
     },
     "user_tz": -180
    },
    "id": "JTpZn62N31FT",
    "outputId": "4a1fb8d6-c7d1-4821-9562-ead5ca544d80"
   },
   "outputs": [
    {
     "name": "stdout",
     "output_type": "stream",
     "text": [
      "endswith(tuple): 0.4929s | any(...endswith): 1.6304s\n"
     ]
    }
   ],
   "source": [
    "names = [f\"file{i}.tar.gz\" if i%3==0 else f\"file{i}.txt\" for i in range(10000)]\n",
    "prefixes = (\".zip\", \".tar.gz\", \".tgz\")\n",
    "\n",
    "t_tuple = timeit.timeit(\"[n.endswith(prefixes) for n in names]\", globals=globals(), number=200)\n",
    "t_any = timeit.timeit(\"[any(n.endswith(p) for p in prefixes) for n in names]\", globals=globals(), number=200)\n",
    "print(f\"endswith(tuple): {t_tuple:.4f}s | any(...endswith): {t_any:.4f}s\")"
   ]
  },
  {
   "cell_type": "code",
   "execution_count": null,
   "metadata": {
    "colab": {
     "base_uri": "https://localhost:8080/"
    },
    "executionInfo": {
     "elapsed": 15628,
     "status": "ok",
     "timestamp": 1758652834958,
     "user": {
      "displayName": "Samir Akhmed",
      "userId": "13960222994132026390"
     },
     "user_tz": -180
    },
    "id": "xcwH7lu23_Mg",
    "outputId": "947e0986-93ed-4f32-d7ae-82d2c0c937d8"
   },
   "outputs": [
    {
     "name": "stdout",
     "output_type": "stream",
     "text": [
      "1.8 ms ± 453 µs per loop (mean ± std. dev. of 7 runs, 1000 loops each)\n"
     ]
    }
   ],
   "source": [
    "%%timeit\n",
    "[n.endswith(prefixes) for n in names]"
   ]
  },
  {
   "cell_type": "code",
   "execution_count": null,
   "metadata": {
    "colab": {
     "base_uri": "https://localhost:8080/"
    },
    "executionInfo": {
     "elapsed": 7531,
     "status": "ok",
     "timestamp": 1758652852836,
     "user": {
      "displayName": "Samir Akhmed",
      "userId": "13960222994132026390"
     },
     "user_tz": -180
    },
    "id": "F5dAaQCM4Fh0",
    "outputId": "8a8f4d37-c1af-4b51-ffac-e3a165c77cb7"
   },
   "outputs": [
    {
     "name": "stdout",
     "output_type": "stream",
     "text": [
      "8.31 ms ± 739 µs per loop (mean ± std. dev. of 7 runs, 100 loops each)\n"
     ]
    }
   ],
   "source": [
    "%%timeit\n",
    "[any(n.endswith(p) for p in prefixes) for n in names]"
   ]
  },
  {
   "cell_type": "markdown",
   "metadata": {
    "id": "eIQo7txq4R-h"
   },
   "source": [
    "###### Разбиение: `split()` vs `re.split()`"
   ]
  },
  {
   "cell_type": "code",
   "execution_count": null,
   "metadata": {
    "colab": {
     "base_uri": "https://localhost:8080/"
    },
    "executionInfo": {
     "elapsed": 3884,
     "status": "ok",
     "timestamp": 1758652900861,
     "user": {
      "displayName": "Samir Akhmed",
      "userId": "13960222994132026390"
     },
     "user_tz": -180
    },
    "id": "-_9gS6Mk4JPN",
    "outputId": "1b658dca-7ef5-4573-8831-42cbb0386d1e"
   },
   "outputs": [
    {
     "name": "stderr",
     "output_type": "stream",
     "text": [
      "<>:5: SyntaxWarning: invalid escape sequence '\\s'\n",
      "<>:5: SyntaxWarning: invalid escape sequence '\\s'\n",
      "/tmp/ipython-input-4100356807.py:5: SyntaxWarning: invalid escape sequence '\\s'\n",
      "  t_resplit = timeit.timeit(\"re.split(r'\\s+', data)\", globals=globals(), number=5000)\n"
     ]
    },
    {
     "name": "stdout",
     "output_type": "stream",
     "text": [
      "split(): 0.4952s | re.split(): 3.3892s\n"
     ]
    }
   ],
   "source": [
    "import re\n",
    "\n",
    "data = \"a   b\\t c\\n d\" * 1000\n",
    "t_split = timeit.timeit(\"data.split()\", globals=globals(), number=5000)\n",
    "t_resplit = timeit.timeit(\"re.split(r'\\s+', data)\", globals=globals(), number=5000)\n",
    "print(f\"split(): {t_split:.4f}s | re.split(): {t_resplit:.4f}s\")"
   ]
  },
  {
   "cell_type": "code",
   "execution_count": null,
   "metadata": {
    "colab": {
     "base_uri": "https://localhost:8080/"
    },
    "executionInfo": {
     "elapsed": 6070,
     "status": "ok",
     "timestamp": 1758652923001,
     "user": {
      "displayName": "Samir Akhmed",
      "userId": "13960222994132026390"
     },
     "user_tz": -180
    },
    "id": "nhSea8bL4ZXP",
    "outputId": "92048f40-132e-4278-bcb8-4edee5a08692"
   },
   "outputs": [
    {
     "name": "stdout",
     "output_type": "stream",
     "text": [
      "73.2 µs ± 4.71 µs per loop (mean ± std. dev. of 7 runs, 10000 loops each)\n"
     ]
    }
   ],
   "source": [
    "%%timeit\n",
    "data.split()"
   ]
  },
  {
   "cell_type": "code",
   "execution_count": null,
   "metadata": {
    "colab": {
     "base_uri": "https://localhost:8080/"
    },
    "executionInfo": {
     "elapsed": 5865,
     "status": "ok",
     "timestamp": 1758652936159,
     "user": {
      "displayName": "Samir Akhmed",
      "userId": "13960222994132026390"
     },
     "user_tz": -180
    },
    "id": "EqxDmeqx4dV2",
    "outputId": "810f5da7-dab6-498a-f865-08c9984d27f2"
   },
   "outputs": [
    {
     "name": "stdout",
     "output_type": "stream",
     "text": [
      "708 µs ± 69.9 µs per loop (mean ± std. dev. of 7 runs, 1000 loops each)\n"
     ]
    }
   ],
   "source": [
    "%%timeit\n",
    "re.split(r'\\s+', data)"
   ]
  },
  {
   "cell_type": "markdown",
   "metadata": {
    "id": "AznzfpDD4n21"
   },
   "source": [
    "###### Форматирование: f-строки vs `.format()`"
   ]
  },
  {
   "cell_type": "code",
   "execution_count": null,
   "metadata": {
    "colab": {
     "base_uri": "https://localhost:8080/"
    },
    "executionInfo": {
     "elapsed": 169,
     "status": "ok",
     "timestamp": 1758652967527,
     "user": {
      "displayName": "Samir Akhmed",
      "userId": "13960222994132026390"
     },
     "user_tz": -180
    },
    "id": "m8j8iKbl4hfz",
    "outputId": "9f5ebd40-164a-4d1d-a809-138f770dc56f"
   },
   "outputs": [
    {
     "name": "stdout",
     "output_type": "stream",
     "text": [
      "f-string: 0.0839s | format(): 0.0895s\n"
     ]
    }
   ],
   "source": [
    "import math\n",
    "setup = \"x=3.14159; y=42\"\n",
    "t_f = timeit.timeit(\"f'val={x:.2f} / {y}'\", setup=setup, number=200000)\n",
    "t_fmt = timeit.timeit(\"'val={:.2f} / {}' .format(x, y)\", setup=setup, number=200000)\n",
    "print(f\"f-string: {t_f:.4f}s | format(): {t_fmt:.4f}s\")"
   ]
  },
  {
   "cell_type": "code",
   "execution_count": null,
   "metadata": {
    "id": "ZCjgOBRE40C7"
   },
   "outputs": [],
   "source": [
    "x = 3.14159\n",
    "y = 42"
   ]
  },
  {
   "cell_type": "code",
   "execution_count": null,
   "metadata": {
    "colab": {
     "base_uri": "https://localhost:8080/"
    },
    "executionInfo": {
     "elapsed": 3789,
     "status": "ok",
     "timestamp": 1758653071466,
     "user": {
      "displayName": "Samir Akhmed",
      "userId": "13960222994132026390"
     },
     "user_tz": -180
    },
    "id": "-tbL__mb4qiw",
    "outputId": "3af5cea4-19a6-453e-a291-edc770785dbc"
   },
   "outputs": [
    {
     "name": "stdout",
     "output_type": "stream",
     "text": [
      "415 ns ± 19.4 ns per loop (mean ± std. dev. of 7 runs, 1000000 loops each)\n"
     ]
    }
   ],
   "source": [
    "%%timeit\n",
    "f'val={x:.2f} / {y}'"
   ]
  },
  {
   "cell_type": "code",
   "execution_count": null,
   "metadata": {
    "colab": {
     "base_uri": "https://localhost:8080/"
    },
    "executionInfo": {
     "elapsed": 3849,
     "status": "ok",
     "timestamp": 1758653052848,
     "user": {
      "displayName": "Samir Akhmed",
      "userId": "13960222994132026390"
     },
     "user_tz": -180
    },
    "id": "YKLir0m3463H",
    "outputId": "8bfe9491-3d01-4883-abcc-6e54cceb68eb"
   },
   "outputs": [
    {
     "name": "stdout",
     "output_type": "stream",
     "text": [
      "463 ns ± 8.26 ns per loop (mean ± std. dev. of 7 runs, 1000000 loops each)\n"
     ]
    }
   ],
   "source": [
    "%%timeit\n",
    "'val={:.2f} / {}' .format(x, y)"
   ]
  },
  {
   "cell_type": "code",
   "execution_count": null,
   "metadata": {
    "id": "R1KB_x1s4-em"
   },
   "outputs": [],
   "source": []
  },
  {
   "cell_type": "markdown",
   "metadata": {
    "id": "FGGNCa7p5UXa"
   },
   "source": [
    "### 5. Unicode: кодовые точки, нормализация, регистры, `casefold`\n"
   ]
  },
  {
   "cell_type": "markdown",
   "metadata": {
    "id": "wHmL6C6V6GgI"
   },
   "source": [
    "#### 1. Кодовые точки (ord, chr)\n",
    "\n",
    "В Unicode каждому символу сопоставляется уникальный номер — кодовая точка. В Python str хранит именно последовательность кодовых точек."
   ]
  },
  {
   "cell_type": "code",
   "execution_count": null,
   "metadata": {
    "colab": {
     "base_uri": "https://localhost:8080/"
    },
    "executionInfo": {
     "elapsed": 39,
     "status": "ok",
     "timestamp": 1758653446180,
     "user": {
      "displayName": "Samir Akhmed",
      "userId": "13960222994132026390"
     },
     "user_tz": -180
    },
    "id": "KmDVSGTt6KnY",
    "outputId": "0cd0de2c-6fef-40ca-c90e-2ea1b5971fc8"
   },
   "outputs": [
    {
     "name": "stdout",
     "output_type": "stream",
     "text": [
      "65\n",
      "1041\n",
      "233\n",
      "A Б é\n"
     ]
    }
   ],
   "source": [
    "print(ord(\"A\"))   # 65\n",
    "print(ord(\"Б\"))   # 1041\n",
    "print(ord(\"é\"))   # 233\n",
    "\n",
    "print(chr(65), chr(1041), chr(233))  # обратно в символы"
   ]
  },
  {
   "cell_type": "markdown",
   "metadata": {
    "id": "osm3tzAX6Gc2"
   },
   "source": [
    "#### 2. Нормализация (unicodedata.normalize)\n",
    "Одна и та же «буква» может иметь разное внутреннее представление.\n",
    "\n",
    "Например, **é**:\n",
    "- как одиночная кодовая точка: U+00E9\n",
    "- как e (U+0065) + комбинирующий акцент (U+0301)"
   ]
  },
  {
   "cell_type": "code",
   "execution_count": null,
   "metadata": {
    "colab": {
     "base_uri": "https://localhost:8080/"
    },
    "executionInfo": {
     "elapsed": 5,
     "status": "ok",
     "timestamp": 1758653573292,
     "user": {
      "displayName": "Samir Akhmed",
      "userId": "13960222994132026390"
     },
     "user_tz": -180
    },
    "id": "TsWbK_0w55e7",
    "outputId": "2efb893f-eb19-4890-ae35-7a0bd7cd2ef8"
   },
   "outputs": [
    {
     "name": "stdout",
     "output_type": "stream",
     "text": [
      "False\n",
      "1 2\n"
     ]
    }
   ],
   "source": [
    "import unicodedata\n",
    "s1 = \"é\"        # один символ\n",
    "s2 = \"e\\u0301\"  # 'e' + combining acute accent\n",
    "\n",
    "print(s1 == s2)   # False\n",
    "print(len(s1), len(s2))  # 1 vs 2\n"
   ]
  },
  {
   "cell_type": "markdown",
   "metadata": {
    "id": "qTYzMexI7SjA"
   },
   "source": [
    "Чтобы привести к единому виду, используют нормализацию:\n",
    "- NFC (Canonical Composition) — «сжимает» в максимально собранный вид.\n",
    "- NFD (Canonical Decomposition) — «разбирает» на базовый символ + диакритики.\n",
    "- NFKC / NFKD — то же самое, но ещё и учитывают «совместимость» (например, превращают \"①\" → \"1\")."
   ]
  },
  {
   "cell_type": "code",
   "execution_count": null,
   "metadata": {
    "colab": {
     "base_uri": "https://localhost:8080/"
    },
    "executionInfo": {
     "elapsed": 38,
     "status": "ok",
     "timestamp": 1758653689082,
     "user": {
      "displayName": "Samir Akhmed",
      "userId": "13960222994132026390"
     },
     "user_tz": -180
    },
    "id": "kW88Ng7c6-el",
    "outputId": "e2e24adf-3718-496a-932a-61c7c1a70224"
   },
   "outputs": [
    {
     "name": "stdout",
     "output_type": "stream",
     "text": [
      "True\n",
      "é\n"
     ]
    }
   ],
   "source": [
    "print(unicodedata.normalize(\"NFC\", s1) == unicodedata.normalize(\"NFC\", s2))  # True\n",
    "print(unicodedata.normalize(\"NFD\", s1))  # e + ́"
   ]
  },
  {
   "cell_type": "markdown",
   "metadata": {
    "id": "LeleFddi7eAh"
   },
   "source": [
    "#### 3. Регистр (lower, upper, title)\n",
    "\n",
    "Обычные методы `lower()` и `upper()` работают хорошо для большинства языков, но есть исключения.\n",
    "\n",
    "\n",
    "\n",
    "Для некоторых языков и символов (ß, турецкая İ/ı) обычный lower()/upper() может вести себя странно."
   ]
  },
  {
   "cell_type": "code",
   "execution_count": null,
   "metadata": {
    "colab": {
     "base_uri": "https://localhost:8080/"
    },
    "executionInfo": {
     "elapsed": 7,
     "status": "ok",
     "timestamp": 1758653841665,
     "user": {
      "displayName": "Samir Akhmed",
      "userId": "13960222994132026390"
     },
     "user_tz": -180
    },
    "id": "Yt--bI2P7avK",
    "outputId": "c7dad9a4-f837-42f1-fc54-ae2c305ff9e5"
   },
   "outputs": [
    {
     "name": "stdout",
     "output_type": "stream",
     "text": [
      "straße\n",
      "STRASSE\n"
     ]
    }
   ],
   "source": [
    "print(\"Straße\".lower())   # \"straße\"\n",
    "print(\"Straße\".upper())   # \"STRASSE\""
   ]
  },
  {
   "cell_type": "markdown",
   "metadata": {
    "id": "IO5ls-k08QDX"
   },
   "source": [
    "#### 4. Общая выжимка"
   ]
  },
  {
   "cell_type": "code",
   "execution_count": null,
   "metadata": {
    "colab": {
     "base_uri": "https://localhost:8080/"
    },
    "executionInfo": {
     "elapsed": 16,
     "status": "ok",
     "timestamp": 1758653916278,
     "user": {
      "displayName": "Samir Akhmed",
      "userId": "13960222994132026390"
     },
     "user_tz": -180
    },
    "id": "DRfpOv687__3",
    "outputId": "923c918a-eb15-4429-e1c7-3f40f1f0bf7b"
   },
   "outputs": [
    {
     "name": "stdout",
     "output_type": "stream",
     "text": [
      "é é False 2 1\n",
      "NFC equal? True\n",
      "NFD equal? True\n",
      "é 0xe9 LATIN SMALL LETTER E WITH ACUTE\n",
      "ß 0xdf LATIN SMALL LETTER SHARP S\n",
      "İ 0x130 LATIN CAPITAL LETTER I WITH DOT ABOVE\n",
      "ı 0x131 LATIN SMALL LETTER DOTLESS I\n",
      "lower: False\n",
      "casefold: True\n"
     ]
    }
   ],
   "source": [
    "import unicodedata\n",
    "\n",
    "# Один и тот же визуальный символ может иметь разные представления\n",
    "s1 = \"e\\u0301\"   # 'e' + COMBINING ACUTE ACCENT\n",
    "s2 = \"é\"         # одиночный символ\n",
    "print(s1, s2, s1 == s2, len(s1), len(s2))\n",
    "\n",
    "# Нормализация\n",
    "print(\"NFC equal?\", unicodedata.normalize(\"NFC\", s1) == unicodedata.normalize(\"NFC\", s2))\n",
    "print(\"NFD equal?\", unicodedata.normalize(\"NFD\", s1) == unicodedata.normalize(\"NFD\", s2))\n",
    "\n",
    "# Информация о символах\n",
    "for ch in [\"é\", \"ß\", \"İ\", \"ı\"]:\n",
    "    print(ch, hex(ord(ch)), unicodedata.name(ch, \"UNKNOWN\"))\n",
    "\n",
    "# .lower() vs .casefold() для case-insensitive сравнения\n",
    "a = \"Straße\"      # немецкое ß\n",
    "b = \"STRASSE\"\n",
    "print(\"lower:\", a.lower() == b.lower())\n",
    "print(\"casefold:\", a.casefold() == b.casefold())"
   ]
  },
  {
   "cell_type": "code",
   "execution_count": null,
   "metadata": {
    "id": "3teSoenn8SNb"
   },
   "outputs": [],
   "source": []
  },
  {
   "cell_type": "markdown",
   "metadata": {
    "id": "bZYcdeqD8Uu9"
   },
   "source": [
    "### 6. Эмодзи, составные символы и подвохи `len()`"
   ]
  },
  {
   "cell_type": "markdown",
   "metadata": {
    "id": "ryt_-3uz8dP2"
   },
   "source": [
    "Некоторые символы занимают два кодовых пункта (surrogates в UTF-16) или состоят из нескольких кодовых точек (ZJW sequences)"
   ]
  },
  {
   "cell_type": "code",
   "execution_count": null,
   "metadata": {
    "colab": {
     "base_uri": "https://localhost:8080/"
    },
    "executionInfo": {
     "elapsed": 10,
     "status": "ok",
     "timestamp": 1758653972607,
     "user": {
      "displayName": "Samir Akhmed",
      "userId": "13960222994132026390"
     },
     "user_tz": -180
    },
    "id": "R8LKlHfj8fxT",
    "outputId": "b522e4ab-ff46-42b1-fd39-282f2f2c48de"
   },
   "outputs": [
    {
     "name": "stdout",
     "output_type": "stream",
     "text": [
      "❤️ len: 2 ['0x2764', '0xfe0f']\n",
      "👨‍👩‍👧‍👦 len: 7 ['0x1f468', '0x200d', '0x1f469', '0x200d', '0x1f467', '0x200d', '0x1f466']\n"
     ]
    }
   ],
   "source": [
    "heart = \"❤️\"  # U+2764 + U+FE0F\n",
    "family = \"👨‍👩‍👧‍👦\"  # несколько эмодзи, склеенных Zero-Width Joiner'ами\n",
    "\n",
    "print(heart, \"len:\", len(heart), [hex(ord(c)) for c in heart])\n",
    "print(family, \"len:\", len(family), [hex(ord(c)) for c in family])"
   ]
  },
  {
   "cell_type": "markdown",
   "metadata": {
    "id": "6AboA5b-8iEp"
   },
   "source": [
    "Приблизительный подсчёт «графем» (user-perceived characters) без внешних библиотек:"
   ]
  },
  {
   "cell_type": "code",
   "execution_count": null,
   "metadata": {
    "colab": {
     "base_uri": "https://localhost:8080/"
    },
    "executionInfo": {
     "elapsed": 47,
     "status": "ok",
     "timestamp": 1758653986390,
     "user": {
      "displayName": "Samir Akhmed",
      "userId": "13960222994132026390"
     },
     "user_tz": -180
    },
    "id": "3mWRCq_y8ZXE",
    "outputId": "d644d463-4a03-40a3-cd0d-2daa9f5bb67f"
   },
   "outputs": [
    {
     "name": "stdout",
     "output_type": "stream",
     "text": [
      "'é' len: 1 approx graphemes: 1\n",
      "'é' len: 2 approx graphemes: 1\n",
      "'❤️' len: 2 approx graphemes: 2\n",
      "'👨\\u200d👩\\u200d👧\\u200d👦' len: 7 approx graphemes: 7\n"
     ]
    }
   ],
   "source": [
    "import unicodedata\n",
    "def grapheme_like_len(s: str) -> int:\n",
    "    count = 0\n",
    "    for ch in s:\n",
    "        if unicodedata.combining(ch) == 0:  # базовый символ\n",
    "            count += 1\n",
    "        else:\n",
    "            # combining mark приклеивается к предыдущему\n",
    "            pass\n",
    "    return count\n",
    "\n",
    "for sample in [\"é\", \"e\\u0301\", heart, family]:\n",
    "    print(repr(sample), \"len:\", len(sample), \"approx graphemes:\", grapheme_like_len(sample))"
   ]
  },
  {
   "cell_type": "code",
   "execution_count": null,
   "metadata": {
    "id": "WkHBNVHl8jUM"
   },
   "outputs": [],
   "source": []
  },
  {
   "cell_type": "markdown",
   "metadata": {
    "id": "MnjLIc5B8m3d"
   },
   "source": [
    "#### 7. Форматирование: f‑строки, mini‑language, `format()`, `Template`"
   ]
  },
  {
   "cell_type": "code",
   "execution_count": null,
   "metadata": {
    "id": "VE0bgPKk8uV_"
   },
   "outputs": [],
   "source": [
    "from string import Template\n",
    "from math import pi\n",
    "\n",
    "name = \"Alice\"\n",
    "score = 97.456"
   ]
  },
  {
   "cell_type": "markdown",
   "metadata": {
    "id": "CuZj8JeT8wiZ"
   },
   "source": [
    "f-строки: выражения, формат-спеки, = для отладки"
   ]
  },
  {
   "cell_type": "code",
   "execution_count": null,
   "metadata": {
    "colab": {
     "base_uri": "https://localhost:8080/"
    },
    "executionInfo": {
     "elapsed": 6,
     "status": "ok",
     "timestamp": 1758654141404,
     "user": {
      "displayName": "Samir Akhmed",
      "userId": "13960222994132026390"
     },
     "user_tz": -180
    },
    "id": "kERq_2mN8u8X",
    "outputId": "c0a1db60-7ac1-41b2-e504-6242949521aa"
   },
   "outputs": [
    {
     "name": "stdout",
     "output_type": "stream",
     "text": [
      "Hello, Alice! Score=97.5\n",
      "pi=3.14159\n"
     ]
    }
   ],
   "source": [
    "print(f\"Hello, {name}! Score={score:.1f}\")\n",
    "print(f\"{pi=:.5f}\")  # debug: печатает имя и значение"
   ]
  },
  {
   "cell_type": "markdown",
   "metadata": {
    "id": "iMhsCfjb80m2"
   },
   "source": [
    "Выравнивание и ширина"
   ]
  },
  {
   "cell_type": "code",
   "execution_count": null,
   "metadata": {
    "colab": {
     "base_uri": "https://localhost:8080/"
    },
    "executionInfo": {
     "elapsed": 9,
     "status": "ok",
     "timestamp": 1758654142305,
     "user": {
      "displayName": "Samir Akhmed",
      "userId": "13960222994132026390"
     },
     "user_tz": -180
    },
    "id": "8yImFHM78oMy",
    "outputId": "e5d7fbdd-056c-4f07-f2ac-2ccf42555d9f"
   },
   "outputs": [
    {
     "name": "stdout",
     "output_type": "stream",
     "text": [
      "[Alice     ]\n",
      "[     Alice]\n",
      "[  Alice   ]\n"
     ]
    }
   ],
   "source": [
    "for align in [\"<\", \">\", \"^\"]:\n",
    "    print(f\"[{name:{align}10}]\")"
   ]
  },
  {
   "cell_type": "markdown",
   "metadata": {
    "id": "y-V2Uk9284i8"
   },
   "source": [
    "Числовой формат\n",
    "\n"
   ]
  },
  {
   "cell_type": "code",
   "execution_count": null,
   "metadata": {
    "colab": {
     "base_uri": "https://localhost:8080/"
    },
    "executionInfo": {
     "elapsed": 22,
     "status": "ok",
     "timestamp": 1758654143470,
     "user": {
      "displayName": "Samir Akhmed",
      "userId": "13960222994132026390"
     },
     "user_tz": -180
    },
    "id": "q20_MwwT86xY",
    "outputId": "9b6543ab-60af-4b4e-cb3f-8e20e249ddd4"
   },
   "outputs": [
    {
     "name": "stdout",
     "output_type": "stream",
     "text": [
      "1,234,567.89\n",
      "0xff 0b11111111 0o377\n"
     ]
    }
   ],
   "source": [
    "n = 1234567.89\n",
    "print(f\"{n:,.2f}\")       # разделитель тысяч\n",
    "print(f\"{255:#x}\", f\"{255:#b}\", f\"{255:#o}\")  # с префиксом системы счисления"
   ]
  },
  {
   "cell_type": "markdown",
   "metadata": {
    "id": "MOQe0Y4X89Dx"
   },
   "source": [
    "Старый format()"
   ]
  },
  {
   "cell_type": "code",
   "execution_count": null,
   "metadata": {
    "colab": {
     "base_uri": "https://localhost:8080/"
    },
    "executionInfo": {
     "elapsed": 27,
     "status": "ok",
     "timestamp": 1758654144996,
     "user": {
      "displayName": "Samir Akhmed",
      "userId": "13960222994132026390"
     },
     "user_tz": -180
    },
    "id": "Kum6FZxj8rXc",
    "outputId": "ea86d2b6-5c75-4680-83aa-cf10e4ed75b8"
   },
   "outputs": [
    {
     "name": "stdout",
     "output_type": "stream",
     "text": [
      "Pi is ~3.142\n"
     ]
    }
   ],
   "source": [
    "print(\"Pi is ~{:.3f}\".format(pi))"
   ]
  },
  {
   "cell_type": "markdown",
   "metadata": {
    "id": "Gwp76X0b9Fal"
   },
   "source": [
    "Template — безопаснее, когда форматируют непроверенные строки"
   ]
  },
  {
   "cell_type": "code",
   "execution_count": null,
   "metadata": {
    "colab": {
     "base_uri": "https://localhost:8080/"
    },
    "executionInfo": {
     "elapsed": 8,
     "status": "ok",
     "timestamp": 1758654147195,
     "user": {
      "displayName": "Samir Akhmed",
      "userId": "13960222994132026390"
     },
     "user_tz": -180
    },
    "id": "bxlZmClV9Atj",
    "outputId": "f84ae5f0-7e2a-487f-8308-81292dd3b94e"
   },
   "outputs": [
    {
     "name": "stdout",
     "output_type": "stream",
     "text": [
      "Dear Bob, your balance is $123.45.\n"
     ]
    }
   ],
   "source": [
    "t = Template(\"Dear $user, your balance is $$${amount}.\")\n",
    "print(t.safe_substitute(user=\"Bob\", amount=\"123.45\"))"
   ]
  },
  {
   "cell_type": "code",
   "execution_count": null,
   "metadata": {
    "id": "OMTEz4pI9HLN"
   },
   "outputs": [],
   "source": []
  },
  {
   "cell_type": "markdown",
   "metadata": {
    "id": "xCnEG7fD9ehK"
   },
   "source": [
    "### 8. Сравнение и сортировка строк"
   ]
  },
  {
   "cell_type": "code",
   "execution_count": null,
   "metadata": {
    "colab": {
     "base_uri": "https://localhost:8080/"
    },
    "executionInfo": {
     "elapsed": 9,
     "status": "ok",
     "timestamp": 1758654306144,
     "user": {
      "displayName": "Samir Akhmed",
      "userId": "13960222994132026390"
     },
     "user_tz": -180
    },
    "id": "3a227asB9xLe",
    "outputId": "0e2aa950-a958-43ca-ca35-34ce9cbee4c9"
   },
   "outputs": [
    {
     "name": "stdout",
     "output_type": "stream",
     "text": [
      "Обычная сортировка (Unicode codepoints): ['Енот', 'Якорь', 'яблоко', 'ёж']\n"
     ]
    }
   ],
   "source": [
    "words = [\"яблоко\", \"Якорь\", \"ёж\", \"Енот\"]\n",
    "print(\"Обычная сортировка (Unicode codepoints):\", sorted(words))\n"
   ]
  },
  {
   "cell_type": "markdown",
   "metadata": {
    "id": "WyY8WUp090Pi"
   },
   "source": [
    "Case-insensitive и «human-like» сортировка"
   ]
  },
  {
   "cell_type": "code",
   "execution_count": null,
   "metadata": {
    "colab": {
     "base_uri": "https://localhost:8080/"
    },
    "executionInfo": {
     "elapsed": 11,
     "status": "ok",
     "timestamp": 1758654336798,
     "user": {
      "displayName": "Samir Akhmed",
      "userId": "13960222994132026390"
     },
     "user_tz": -180
    },
    "id": "6IFCsHyp9x3i",
    "outputId": "f829346e-6282-4965-daca-d04407b3898f"
   },
   "outputs": [
    {
     "name": "stdout",
     "output_type": "stream",
     "text": [
      "Casefold сортировка: ['Енот', 'яблоко', 'Якорь', 'ёж']\n"
     ]
    }
   ],
   "source": [
    "print(\"Casefold сортировка:\", sorted(words, key=lambda s: s.casefold()))"
   ]
  },
  {
   "cell_type": "markdown",
   "metadata": {
    "id": "wG1ftl2G917l"
   },
   "source": [
    "«Естественная» сортировка с числами внутри строк"
   ]
  },
  {
   "cell_type": "code",
   "execution_count": null,
   "metadata": {
    "colab": {
     "base_uri": "https://localhost:8080/"
    },
    "executionInfo": {
     "elapsed": 21,
     "status": "ok",
     "timestamp": 1758654332105,
     "user": {
      "displayName": "Samir Akhmed",
      "userId": "13960222994132026390"
     },
     "user_tz": -180
    },
    "id": "emwc2vrR9hmh",
    "outputId": "85e3ab7d-ac0f-4321-847c-64efe571d8b5"
   },
   "outputs": [
    {
     "name": "stdout",
     "output_type": "stream",
     "text": [
      "natural sort: ['file1.txt', 'file2.txt', 'file10.txt']\n"
     ]
    }
   ],
   "source": [
    "import re\n",
    "\n",
    "def natural_key(s: str):\n",
    "    return [int(part) if part.isdigit() else part.casefold() for part in re.split(r\"(\\d+)\", s)]\n",
    "\n",
    "files = [\"file2.txt\", \"file10.txt\", \"file1.txt\"]\n",
    "print(\"natural sort:\", sorted(files, key=natural_key))\n"
   ]
  },
  {
   "cell_type": "markdown",
   "metadata": {
    "id": "3KZpgI6N-BKZ"
   },
   "source": [
    "### 9. Таблицы перевода: `str.maketrans`, `translate`"
   ]
  },
  {
   "cell_type": "markdown",
   "metadata": {
    "id": "v8zFsyvn-F9J"
   },
   "source": [
    "Удалим пунктуацию и приведём к нижнему регистру"
   ]
  },
  {
   "cell_type": "code",
   "execution_count": null,
   "metadata": {
    "colab": {
     "base_uri": "https://localhost:8080/"
    },
    "executionInfo": {
     "elapsed": 25,
     "status": "ok",
     "timestamp": 1758654395158,
     "user": {
      "displayName": "Samir Akhmed",
      "userId": "13960222994132026390"
     },
     "user_tz": -180
    },
    "id": "R0QHLdXT9rqT",
    "outputId": "2ca4f7d5-cc19-4ecf-a191-c888ce717dfd"
   },
   "outputs": [
    {
     "name": "stdout",
     "output_type": "stream",
     "text": [
      "hello world its—amazing right\n"
     ]
    }
   ],
   "source": [
    "import string\n",
    "\n",
    "\n",
    "table = str.maketrans(\"\", \"\", string.punctuation)\n",
    "s = \"Hello, World! It's—amazing; right?\"\n",
    "clean = s.translate(table).lower()\n",
    "print(clean)\n",
    "\n"
   ]
  },
  {
   "cell_type": "markdown",
   "metadata": {
    "id": "X4re6pY4-Hya"
   },
   "source": [
    "Замены символов\n"
   ]
  },
  {
   "cell_type": "code",
   "execution_count": null,
   "metadata": {
    "colab": {
     "base_uri": "https://localhost:8080/"
    },
    "executionInfo": {
     "elapsed": 55,
     "status": "ok",
     "timestamp": 1758654407738,
     "user": {
      "displayName": "Samir Akhmed",
      "userId": "13960222994132026390"
     },
     "user_tz": -180
    },
    "id": "atI1pCYW9-Oa",
    "outputId": "8074b7cc-d42b-41a0-bda8-c908e4b21be3"
   },
   "outputs": [
    {
     "name": "stdout",
     "output_type": "stream",
     "text": [
      "ежик\n"
     ]
    }
   ],
   "source": [
    "tr = str.maketrans({\"ё\": \"е\", \"Ё\": \"Е\"})\n",
    "print(\"ёжик\".translate(tr))"
   ]
  },
  {
   "cell_type": "code",
   "execution_count": null,
   "metadata": {
    "id": "Mbcy90c3-KKD"
   },
   "outputs": [],
   "source": []
  },
  {
   "cell_type": "markdown",
   "metadata": {
    "id": "c6aialG_-S7r"
   },
   "source": [
    "### 10. Регулярные выражения (кратко, без фанатизма)\n",
    "\n",
    "Регулярные выражения (RegEx) — это язык шаблонов для поиска и обработки текста.\n"
   ]
  },
  {
   "cell_type": "markdown",
   "metadata": {
    "id": "B7gc4Rwq_FMd"
   },
   "source": [
    "- `re.search(pattern, text)` — найти первое совпадение (или None).\n",
    "- `re.findall(pattern, text)` — найти все совпадения (список строк).\n",
    "- `re.finditer(pattern, text)` — найти все совпадения как объекты (с позициями).\n",
    "\n",
    "Метасимволы\n",
    "\n",
    "- `.` → любой символ, кроме \\n\n",
    "- `\\d` → цифра ([0-9])\n",
    "- `\\w` → буква/цифра/подчёркивание\n",
    "- `\\s` → пробел, таб, перевод строки\n",
    "- `^` → начало строки\n",
    "- `$` → конец строки\n",
    "- `[...]` → набор символов\n",
    "- `[^...]` → отрицание\n",
    "\n",
    "\n",
    "Квантификаторы\n",
    "\n",
    "- `*` → 0 или больше\n",
    "- `+` → 1 или больше\n",
    "- `?` → 0 или 1\n",
    "- `{n}` → ровно n\n",
    "- `{n,}` → n или больше\n",
    "- `{n,m}` → от n до m\n",
    "\n",
    "Группы и захват\n",
    "\n",
    "- `( )` → группа (захват текста)\n",
    "- `(?: )` → группа без захвата\n",
    "- `(?P<name>...)` → именованная группа\n",
    "\n",
    "Флаги\n",
    "\n",
    "- `re.IGNORECASE (re.I)` → без учёта регистра\n",
    "- `re.MULTILINE (re.M)` → ^ и $ работают для каждой строки\n",
    "- `re.DOTALL (re.S)` → . захватывает и \\n"
   ]
  },
  {
   "cell_type": "code",
   "execution_count": null,
   "metadata": {
    "colab": {
     "base_uri": "https://localhost:8080/"
    },
    "executionInfo": {
     "elapsed": 18,
     "status": "ok",
     "timestamp": 1758654479906,
     "user": {
      "displayName": "Samir Akhmed",
      "userId": "13960222994132026390"
     },
     "user_tz": -180
    },
    "id": "ix9V82Dl-V4-",
    "outputId": "286759b3-d90d-463c-d412-8cc9a451eb6f"
   },
   "outputs": [
    {
     "name": "stdout",
     "output_type": "stream",
     "text": [
      "Номер заказа: 12345 дата: 2025-09-23 пользователь: alice42\n"
     ]
    }
   ],
   "source": [
    "import re\n",
    "\n",
    "text = \"Order #12345 on 2025-09-23 by user alice42\"\n",
    "m = re.search(r\"#(\\d+).*?(\\d{4}-\\d{2}-\\d{2}).*?(\\w+)$\", text)\n",
    "print(\"Номер заказа:\", m.group(1), \"дата:\", m.group(2), \"пользователь:\", m.group(3))\n"
   ]
  },
  {
   "cell_type": "markdown",
   "metadata": {
    "id": "82u8sv0R-a2Q"
   },
   "source": [
    " Разбиение и замена\n",
    "\n",
    "- `re.split(pattern, text)` — разбить строку по шаблону.\n",
    "- `re.sub(pattern, repl, text)` — заменить все совпадения."
   ]
  },
  {
   "cell_type": "code",
   "execution_count": null,
   "metadata": {
    "colab": {
     "base_uri": "https://localhost:8080/"
    },
    "executionInfo": {
     "elapsed": 25,
     "status": "ok",
     "timestamp": 1758654481287,
     "user": {
      "displayName": "Samir Akhmed",
      "userId": "13960222994132026390"
     },
     "user_tz": -180
    },
    "id": "saO6kKI2-YBR",
    "outputId": "f4f5d645-6c96-4e4e-c45e-13df5a854a04"
   },
   "outputs": [
    {
     "name": "stdout",
     "output_type": "stream",
     "text": [
      "['a', 'b', 'c', 'd']\n",
      "id=<NUM>, port=<NUM>\n"
     ]
    }
   ],
   "source": [
    "print(re.split(r\"\\s+\", \"a   b\\tc\\nd\"))\n",
    "print(re.sub(r\"\\d+\", \"<NUM>\", \"id=42, port=8080\"))"
   ]
  },
  {
   "cell_type": "markdown",
   "metadata": {
    "id": "W24rjaCb-iCq"
   },
   "source": [
    "### 11. `textwrap` и отступы"
   ]
  },
  {
   "cell_type": "code",
   "execution_count": null,
   "metadata": {
    "colab": {
     "base_uri": "https://localhost:8080/"
    },
    "executionInfo": {
     "elapsed": 52,
     "status": "ok",
     "timestamp": 1758654526800,
     "user": {
      "displayName": "Samir Akhmed",
      "userId": "13960222994132026390"
     },
     "user_tz": -180
    },
    "id": "OYGPCmkt-cI-",
    "outputId": "fe9ad158-d758-4be3-a0c5-0b840b42e79e"
   },
   "outputs": [
    {
     "name": "stdout",
     "output_type": "stream",
     "text": [
      "Python — язык с богатой стандартной библиотекой.\n",
      "Модуль textwrap помогает красиво форматировать\n",
      "текст под ширину.\n",
      "До dedent:\n",
      " \n",
      "    def hello():\n",
      "        print(\"indented\")\n",
      "\n",
      "После dedent:\n",
      " \n",
      "def hello():\n",
      "    print(\"indented\")\n",
      "\n"
     ]
    }
   ],
   "source": [
    "import textwrap\n",
    "paragraph = \"Python — язык с богатой стандартной библиотекой. Модуль textwrap помогает красиво форматировать текст под ширину.\"\n",
    "print(textwrap.fill(paragraph, width=50))\n",
    "\n",
    "code = \"\"\"\n",
    "    def hello():\n",
    "        print(\"indented\")\n",
    "\"\"\"\n",
    "print(\"До dedent:\\n\", code)\n",
    "print(\"После dedent:\\n\", textwrap.dedent(code))"
   ]
  },
  {
   "cell_type": "markdown",
   "metadata": {
    "id": "xN7Jp49r-uiF"
   },
   "source": [
    "### 12. Байты vs строки: `bytes`, `bytearray`, кодеки"
   ]
  },
  {
   "cell_type": "code",
   "execution_count": null,
   "metadata": {
    "colab": {
     "base_uri": "https://localhost:8080/"
    },
    "executionInfo": {
     "elapsed": 50,
     "status": "ok",
     "timestamp": 1758655214061,
     "user": {
      "displayName": "Samir Akhmed",
      "userId": "13960222994132026390"
     },
     "user_tz": -180
    },
    "id": "KNAn9wfV-nPz",
    "outputId": "82b37394-3096-48ec-c563-d9b45c1622f4"
   },
   "outputs": [
    {
     "name": "stdout",
     "output_type": "stream",
     "text": [
      "b'\\xd0\\x9f\\xd1\\x80\\xd0\\xb8\\xd0\\xb2\\xd0\\xb5\\xd1\\x82 \\xf0\\x9f\\x91\\x8b' <class 'bytes'>\n",
      "Привет 👋\n"
     ]
    }
   ],
   "source": [
    "data_str = \"Привет 👋\"\n",
    "data_bytes = data_str.encode(\"utf-8\")\n",
    "print(data_bytes, type(data_bytes))\n",
    "print(data_bytes.decode(\"utf-8\"))\n"
   ]
  },
  {
   "cell_type": "markdown",
   "metadata": {
    "id": "DL_ipSz6BQGj"
   },
   "source": [
    "Ошибки декодирования и политики ошибок\n"
   ]
  },
  {
   "cell_type": "code",
   "execution_count": null,
   "metadata": {
    "colab": {
     "base_uri": "https://localhost:8080/"
    },
    "executionInfo": {
     "elapsed": 11,
     "status": "ok",
     "timestamp": 1758655226590,
     "user": {
      "displayName": "Samir Akhmed",
      "userId": "13960222994132026390"
     },
     "user_tz": -180
    },
    "id": "uwdmDySbBM_G",
    "outputId": "6127ef3c-b4ba-4f08-f286-87ee05f68fe8"
   },
   "outputs": [
    {
     "name": "stdout",
     "output_type": "stream",
     "text": [
      "hello�world\n",
      "helloworld\n"
     ]
    }
   ],
   "source": [
    "bad = b\"hello\\xffworld\"\n",
    "print(bad.decode(\"utf-8\", errors=\"replace\"))  # заменит некорректные байты\n",
    "print(bad.decode(\"utf-8\", errors=\"ignore\"))   # пропустит"
   ]
  },
  {
   "cell_type": "markdown",
   "metadata": {
    "id": "k-aUus7vBbK4"
   },
   "source": [
    "Unicode sandwich (бутерброд Юникода)\n",
    "\n",
    "Идея: строка внутри программы всегда должна быть str (Unicode).\n",
    "А кодировка/декодировка в байты происходит только на краях — при вводе и выводе.\n",
    "\n",
    "Представь бутерброд:\n",
    "```markdown\n",
    "[bytes in] → decode →  [str внутри программы]  → encode → [bytes out]\n",
    "```"
   ]
  },
  {
   "cell_type": "markdown",
   "metadata": {
    "id": "Sk2sj6deBoHl"
   },
   "source": [
    "#### Входные данные (decode → str)\n",
    "\n",
    "- Всё, что приходит извне (файлы, сеть, БД, stdin) обычно в виде байтов.\n",
    "\n",
    "- На входе мы должны сразу их декодировать в Unicode (str)."
   ]
  },
  {
   "cell_type": "code",
   "execution_count": null,
   "metadata": {
    "colab": {
     "base_uri": "https://localhost:8080/"
    },
    "executionInfo": {
     "elapsed": 10,
     "status": "ok",
     "timestamp": 1758655344688,
     "user": {
      "displayName": "Samir Akhmed",
      "userId": "13960222994132026390"
     },
     "user_tz": -180
    },
    "id": "7kZOSbpWBSGY",
    "outputId": "96db8b92-eb6c-4e91-b690-0718a564b530"
   },
   "outputs": [
    {
     "name": "stdout",
     "output_type": "stream",
     "text": [
      "café\n"
     ]
    }
   ],
   "source": [
    "data_bytes = b\"caf\\xc3\\xa9\"   # байты в UTF-8\n",
    "text = data_bytes.decode(\"utf-8\")   # теперь str\n",
    "print(text)  # café\n"
   ]
  },
  {
   "cell_type": "markdown",
   "metadata": {
    "id": "S96OJqFlBxnN"
   },
   "source": [
    "#### Внутри программы (только str)\n",
    "\n",
    "- Работаем только с str — это гарантирует, что операции (срезы, len, методы строк) работают корректно.\n",
    "\n",
    "- Не мешаем bytes и str — это разные типы."
   ]
  },
  {
   "cell_type": "code",
   "execution_count": null,
   "metadata": {
    "colab": {
     "base_uri": "https://localhost:8080/"
    },
    "executionInfo": {
     "elapsed": 44,
     "status": "ok",
     "timestamp": 1758655370286,
     "user": {
      "displayName": "Samir Akhmed",
      "userId": "13960222994132026390"
     },
     "user_tz": -180
    },
    "id": "zxmrzsjWBu7n",
    "outputId": "ca50e6ae-0737-466d-971f-7302c770010e"
   },
   "outputs": [
    {
     "name": "stdout",
     "output_type": "stream",
     "text": [
      "STRASSE\n",
      "strasse\n"
     ]
    }
   ],
   "source": [
    "text = \"Straße\"\n",
    "print(text.upper())     # STRASSE\n",
    "print(text.casefold())  # strasse\n"
   ]
  },
  {
   "cell_type": "markdown",
   "metadata": {
    "id": "UYdmJx9FB72Q"
   },
   "source": [
    "#### Выходные данные (str → encode)\n",
    "\n",
    "- При записи во внешний мир (socket, file, stdout) строку надо закодировать в байты."
   ]
  },
  {
   "cell_type": "code",
   "execution_count": null,
   "metadata": {
    "colab": {
     "base_uri": "https://localhost:8080/"
    },
    "executionInfo": {
     "elapsed": 10,
     "status": "ok",
     "timestamp": 1758655415994,
     "user": {
      "displayName": "Samir Akhmed",
      "userId": "13960222994132026390"
     },
     "user_tz": -180
    },
    "id": "rhoqcreNB1K8",
    "outputId": "6fb44ed2-5e1e-4737-ee77-9219e6eefb95"
   },
   "outputs": [
    {
     "name": "stdout",
     "output_type": "stream",
     "text": [
      "b'\\xd0\\x9f\\xd1\\x80\\xd0\\xb8\\xd0\\xb2\\xd0\\xb5\\xd1\\x82'\n"
     ]
    }
   ],
   "source": [
    "out = \"Привет\".encode(\"utf-8\")\n",
    "print(out)  # b'\\xd0\\x9f\\xd1\\x80\\xd0\\xb8\\xd0\\xb2\\xd0\\xb5\\xd1\\x82'"
   ]
  },
  {
   "cell_type": "code",
   "execution_count": null,
   "metadata": {
    "id": "UJBvd7OECAVO"
   },
   "outputs": [],
   "source": []
  },
  {
   "cell_type": "markdown",
   "metadata": {
    "id": "qKm5yoWDCHBa"
   },
   "source": [
    "### 13. Безопасность: `ast.literal_eval` vs `eval`"
   ]
  },
  {
   "cell_type": "code",
   "execution_count": null,
   "metadata": {
    "colab": {
     "base_uri": "https://localhost:8080/"
    },
    "executionInfo": {
     "elapsed": 24,
     "status": "ok",
     "timestamp": 1758655469625,
     "user": {
      "displayName": "Samir Akhmed",
      "userId": "13960222994132026390"
     },
     "user_tz": -180
    },
    "id": "1brup5EkCJhg",
    "outputId": "16550f47-8e67-4ecd-aba1-8b79fec73cd8"
   },
   "outputs": [
    {
     "name": "stdout",
     "output_type": "stream",
     "text": [
      "{'a': 1, 'b': [2, 3]}\n",
      "literal_eval защитил: ValueError malformed node or string on line 1: <ast.Call object at 0x7ef80a381850>\n"
     ]
    }
   ],
   "source": [
    "import ast\n",
    "\n",
    "safe = \"{'a': 1, 'b': [2,3]}\"\n",
    "print(ast.literal_eval(safe))\n",
    "\n",
    "danger = \"__import__('os').system('echo HACKED')\"  # Демонстрация, не выполняем!\n",
    "try:\n",
    "    print(ast.literal_eval(danger))  # это упадёт\n",
    "except Exception as e:\n",
    "    print(\"literal_eval защитил:\", type(e).__name__, e)\n",
    "\n",
    "# Никогда не запускайте eval на непроверенном вводе!"
   ]
  },
  {
   "cell_type": "markdown",
   "metadata": {
    "id": "Pc6U37hjCf-4"
   },
   "source": [
    "`__import__('os').system('echo HACKED')` — это инъекция команды, написанная на Python.\n",
    "\n",
    "Разберём по шагам, что происходит:\n",
    "\n",
    "- `__import__('os')` — динамически импортирует модуль os и возвращает его объект (то же, что import os; os).\n",
    "- `.system('echo HACKED')` — вызывает функцию os.system, которая передаёт строку командной оболочке (/bin/sh на Unix) и выполняет её.\n",
    "\n",
    "В результате в shell выполнится команда echo HACKED — в терминал/лог будет напечатано HACKED, а os.system вернёт код завершения команды (целое число).\n",
    "\n",
    "**Итого**: эта строка выполняет произвольную системную команду, и если вместо echo HACKED окажется что-угодно (напр. rm -rf /, curl http://attacker/... и т.п.), то это приведёт к выполнению этого вредоносного действия."
   ]
  },
  {
   "cell_type": "markdown",
   "metadata": {
    "id": "aO-7yOZ0C0wD"
   },
   "source": [
    "### 14. Частые баги и лайфхаки"
   ]
  },
  {
   "cell_type": "code",
   "execution_count": null,
   "metadata": {
    "colab": {
     "base_uri": "https://localhost:8080/"
    },
    "executionInfo": {
     "elapsed": 16,
     "status": "ok",
     "timestamp": 1758655647334,
     "user": {
      "displayName": "Samir Akhmed",
      "userId": "13960222994132026390"
     },
     "user_tz": -180
    },
    "id": "67jmQdLUCNag",
    "outputId": "be5c2257-0b8a-4069-d06f-df9202a1dc76"
   },
   "outputs": [
    {
     "name": "stdout",
     "output_type": "stream",
     "text": [
      "bar\n",
      "['a', 'b', 'c', 'd']\n",
      "True\n",
      "True\n"
     ]
    }
   ],
   "source": [
    "# 1) strip не удаляет подстроки, только набор символов с краёв\n",
    "print(\"foobarfoo\".strip(\"foo\"))   # удалит f/o по краям, не \"foo\" целиком\n",
    "\n",
    "# 2) split без аргументов умно схлопывает пробелы\n",
    "print(\"a   b\\t c\\n d\".split())\n",
    "\n",
    "# 3) r-строки и обратные слеши в конце\n",
    "# r\"abc\\\"  # SyntaxError — помните об этом\n",
    "\n",
    "# 4) startswith/endswith с кортежем шаблонов\n",
    "fname = \"archive.tar.gz\"\n",
    "print(fname.endswith((\".zip\", \".tar.gz\", \".tgz\")))\n",
    "\n",
    "# 5) Нормализуйте и используйте casefold для поиска по Unicode\n",
    "haystack = \"Café mañana Straße\"\n",
    "needle = \"strasse\"\n",
    "print(needle.casefold() in haystack.casefold())"
   ]
  },
  {
   "cell_type": "markdown",
   "metadata": {
    "id": "kSXTMF4sDReI"
   },
   "source": [
    "Почему это опасно\n",
    "\n",
    "Код запускает внешнюю команду под теми же правами, что и процесс Python.\n",
    "\n",
    "Если такой фрагмент приходит от пользователя (в шаблоне, конфиге, API), — это удар по безопасности: удалённое выполнение команд (RCE).\n",
    "\n",
    "`eval/exec/__import__` — типичные векторы атак при выполнении непроверённого ввода."
   ]
  },
  {
   "cell_type": "code",
   "execution_count": null,
   "metadata": {
    "id": "iyjVWzjoC40d"
   },
   "outputs": [],
   "source": []
  },
  {
   "cell_type": "markdown",
   "metadata": {
    "id": "qfAITleaDBHF"
   },
   "source": [
    "## 2. Список и кортеж"
   ]
  },
  {
   "cell_type": "markdown",
   "metadata": {
    "id": "lyN8mJSODxZl"
   },
   "source": [
    "### План\n",
    "1. Литералы\n",
    "2. Индексация/срезы\n",
    "3. Мутируемость vs неизменяемость\n",
    "4. Методы списков\n",
    "5. Распаковка и star\n",
    "6. Comprehensions & генераторы\n",
    "7. Копирование (shallow/deep)\n",
    "8. Сортировка и bisect\n",
    "9. Бенчмарки"
   ]
  },
  {
   "cell_type": "markdown",
   "metadata": {
    "id": "6YM6JDo1D-Z6"
   },
   "source": [
    "### 1. Литералы и базовые операции"
   ]
  },
  {
   "cell_type": "code",
   "execution_count": null,
   "metadata": {
    "colab": {
     "base_uri": "https://localhost:8080/"
    },
    "executionInfo": {
     "elapsed": 51,
     "status": "ok",
     "timestamp": 1758655945901,
     "user": {
      "displayName": "Samir Akhmed",
      "userId": "13960222994132026390"
     },
     "user_tz": -180
    },
    "id": "UfqsXJ_2DEEh",
    "outputId": "b0c5dad9-cffe-4d54-9cf7-9301b24d38a0"
   },
   "outputs": [
    {
     "name": "stdout",
     "output_type": "stream",
     "text": [
      "<class 'list'> [1, 2, 3]\n",
      "<class 'tuple'> (1, 2, 3)\n",
      "single_tuple: (1,)\n"
     ]
    }
   ],
   "source": [
    "a_list = [1,2,3]\n",
    "a_tuple = (1,2,3)\n",
    "empty_tuple = ()\n",
    "single_tuple = (1,)\n",
    "print(type(a_list), a_list)\n",
    "print(type(a_tuple), a_tuple)\n",
    "print('single_tuple:', single_tuple)"
   ]
  },
  {
   "cell_type": "markdown",
   "metadata": {
    "id": "x6wPk5b6EEhX"
   },
   "source": [
    "### 2. Индексация и срезы"
   ]
  },
  {
   "cell_type": "code",
   "execution_count": null,
   "metadata": {
    "colab": {
     "base_uri": "https://localhost:8080/"
    },
    "executionInfo": {
     "elapsed": 26,
     "status": "ok",
     "timestamp": 1758656316050,
     "user": {
      "displayName": "Samir Akhmed",
      "userId": "13960222994132026390"
     },
     "user_tz": -180
    },
    "id": "77U1ULRvDwAx",
    "outputId": "fb55b9f8-c911-4fc3-9ae1-06b3e1a8cea9"
   },
   "outputs": [
    {
     "name": "stdout",
     "output_type": "stream",
     "text": [
      "0 9\n",
      "[2, 3, 4, 5] [0, 2, 4, 6, 8] [9, 8, 7, 6, 5, 4, 3, 2, 1, 0]\n",
      "original L unchanged: [0, 1, 2, 3, 4, 5, 6, 7, 8, 9]\n",
      "Using slice object [2, 3, 4, 5]\n"
     ]
    }
   ],
   "source": [
    "L = list(range(10))\n",
    "print(L[0], L[-1])\n",
    "print(L[2:6], L[::2], L[::-1])\n",
    "# slice returns new list; modifying slice doesn't change original\n",
    "s = L[2:5]\n",
    "s[0]=999\n",
    "print('original L unchanged:', L)\n",
    "\n",
    "indexes = slice(2, 6, None)\n",
    "\n",
    "print(\"Using slice object\", L[indexes])"
   ]
  },
  {
   "cell_type": "markdown",
   "metadata": {
    "id": "cOzmCITpEOhM"
   },
   "source": [
    "### 3. Мутируемость vs неизменяемость"
   ]
  },
  {
   "cell_type": "markdown",
   "metadata": {
    "id": "Q6CRcN2HEbCV"
   },
   "source": [
    "#### Что значит «мутируемость»\n",
    "- Мутируемый объект → можно менять его содержимое без пересоздания.\n",
    "- Неизменяемый объект → изменить нельзя, можно только создать новый.\n",
    "\n",
    "В Python:\n",
    "\n",
    "- Неизменяемые: `int`, `float`, `bool`, `str`, `tuple`, `frozenset`, `bytes` (частично).\n",
    "- Мутируемые: `list`, `dict`, `set`, `bytearray`, `user-defined class` (обычно)."
   ]
  },
  {
   "cell_type": "code",
   "execution_count": null,
   "metadata": {
    "colab": {
     "base_uri": "https://localhost:8080/"
    },
    "executionInfo": {
     "elapsed": 48,
     "status": "ok",
     "timestamp": 1758656148807,
     "user": {
      "displayName": "Samir Akhmed",
      "userId": "13960222994132026390"
     },
     "user_tz": -180
    },
    "id": "_qYq8xNjEHwv",
    "outputId": "12b7aa18-a04d-430e-bdaa-49e1e1f85597"
   },
   "outputs": [
    {
     "name": "stdout",
     "output_type": "stream",
     "text": [
      "id before: 139603788876224\n",
      "after append: [1, 2, 3, 4]\n",
      "id after : 139603788876224\n"
     ]
    }
   ],
   "source": [
    "L = [1, 2, 3]\n",
    "print(\"id before:\", id(L))\n",
    "\n",
    "L.append(4)  # изменяем сам объект\n",
    "print(\"after append:\", L)\n",
    "print(\"id after :\", id(L))  # id тот же"
   ]
  },
  {
   "cell_type": "code",
   "execution_count": null,
   "metadata": {
    "colab": {
     "base_uri": "https://localhost:8080/"
    },
    "executionInfo": {
     "elapsed": 13,
     "status": "ok",
     "timestamp": 1758656158470,
     "user": {
      "displayName": "Samir Akhmed",
      "userId": "13960222994132026390"
     },
     "user_tz": -180
    },
    "id": "Vlmga4PXEzPH",
    "outputId": "b2260e8a-156d-4b24-8f30-9237e12ad313"
   },
   "outputs": [
    {
     "name": "stdout",
     "output_type": "stream",
     "text": [
      "id before: 139604738180896\n",
      "after upper: HELLO\n",
      "id after : 139603799422032\n"
     ]
    }
   ],
   "source": [
    "s = \"hello\"\n",
    "print(\"id before:\", id(s))\n",
    "\n",
    "s = s.upper()  # создаётся НОВАЯ строка\n",
    "print(\"after upper:\", s)\n",
    "print(\"id after :\", id(s))  # другой id"
   ]
  },
  {
   "cell_type": "markdown",
   "metadata": {
    "id": "HZg384XqE4T_"
   },
   "source": [
    "Кортеж — неизменяемый контейнер, но может содержать изменяемое"
   ]
  },
  {
   "cell_type": "code",
   "execution_count": null,
   "metadata": {
    "colab": {
     "base_uri": "https://localhost:8080/"
    },
    "executionInfo": {
     "elapsed": 48,
     "status": "ok",
     "timestamp": 1758656182879,
     "user": {
      "displayName": "Samir Akhmed",
      "userId": "13960222994132026390"
     },
     "user_tz": -180
    },
    "id": "Wz1UImrZE1my",
    "outputId": "fddcb0fe-aaea-4ac0-8f67-0eee16ebd45f"
   },
   "outputs": [
    {
     "name": "stdout",
     "output_type": "stream",
     "text": [
      "before: (1, [10, 20])\n",
      "after : (1, [10, 20, 30])\n",
      "Ошибка: 'tuple' object does not support item assignment\n"
     ]
    }
   ],
   "source": [
    "t = (1, [10, 20])\n",
    "print(\"before:\", t)\n",
    "\n",
    "t[1].append(30)  # список внутри — мутируемый\n",
    "print(\"after :\", t)\n",
    "\n",
    "try:\n",
    "    t[0] = 999\n",
    "except TypeError as e:\n",
    "    print(\"Ошибка:\", e)"
   ]
  },
  {
   "cell_type": "markdown",
   "metadata": {
    "id": "a_a0dXtGE_gJ"
   },
   "source": [
    "Что может произойти если не знать о мутируемых типах"
   ]
  },
  {
   "cell_type": "code",
   "execution_count": null,
   "metadata": {
    "colab": {
     "base_uri": "https://localhost:8080/"
    },
    "executionInfo": {
     "elapsed": 45,
     "status": "ok",
     "timestamp": 1758656229893,
     "user": {
      "displayName": "Samir Akhmed",
      "userId": "13960222994132026390"
     },
     "user_tz": -180
    },
    "id": "0KWLeoo_E7jd",
    "outputId": "55a75ded-22c8-45d4-8fab-df19c6bb6e17"
   },
   "outputs": [
    {
     "name": "stdout",
     "output_type": "stream",
     "text": [
      "[1]\n",
      "[1, 1]\n",
      "[1, 1, 1]\n"
     ]
    }
   ],
   "source": [
    "def bad(acc=[]):   # один и тот же список на все вызовы\n",
    "    acc.append(1)\n",
    "    return acc\n",
    "\n",
    "print(bad())  # [1]\n",
    "print(bad())  # [1, 1]\n",
    "print(bad())  # [1, 1, 1]"
   ]
  },
  {
   "cell_type": "markdown",
   "metadata": {
    "id": "SJ4ILPRmFJ8W"
   },
   "source": [
    "Рекомендуемый путь"
   ]
  },
  {
   "cell_type": "code",
   "execution_count": null,
   "metadata": {
    "colab": {
     "base_uri": "https://localhost:8080/"
    },
    "executionInfo": {
     "elapsed": 38,
     "status": "ok",
     "timestamp": 1758656248528,
     "user": {
      "displayName": "Samir Akhmed",
      "userId": "13960222994132026390"
     },
     "user_tz": -180
    },
    "id": "FRvZDizRFHCF",
    "outputId": "a08d6a0e-4b88-41c6-9a3f-f3fc9ea81a4e"
   },
   "outputs": [
    {
     "name": "stdout",
     "output_type": "stream",
     "text": [
      "[1]\n",
      "[1]\n"
     ]
    }
   ],
   "source": [
    "def good(acc=None):\n",
    "    if acc is None:\n",
    "        acc = []\n",
    "    acc.append(1)\n",
    "    return acc\n",
    "\n",
    "print(good())  # [1]\n",
    "print(good())  # [1]"
   ]
  },
  {
   "cell_type": "code",
   "execution_count": null,
   "metadata": {
    "id": "CvTHtTWtFLlH"
   },
   "outputs": [],
   "source": []
  },
  {
   "cell_type": "markdown",
   "metadata": {
    "id": "PaJ-7pn7FfCW"
   },
   "source": [
    "### 4. Методы списков (коротко)\n",
    "\n",
    "\n",
    "- `append(x)`\n",
    "Добавляет элемент x в конец списка.\n",
    "Сложность: O(1) амортизированно.\n",
    "- `extend(iterable)`\n",
    "Добавляет все элементы из итерируемого объекта.\n",
    "Сложность: O(k), где k — длина iterable.\n",
    "- `insert(i, x)`\n",
    "Вставляет x на позицию i, сдвигая остальные элементы вправо.\n",
    "Сложность: O(n).\n",
    "- `pop([i])`\n",
    "Удаляет и возвращает элемент с позиции i (по умолчанию последний).\n",
    "Сложность: O(1) для конца, O(n) для произвольной позиции.\n",
    "- `remove(x)`\n",
    "Удаляет первое вхождение x (ошибка **ValueError**, если нет).\n",
    "Сложность: O(n).\n",
    "- `clear()`\n",
    "Удаляет все элементы (эквивалент del L[:]).\n",
    "Сложность: O(n).\n",
    "- `index(x, [start], [stop])`\n",
    "Возвращает индекс первого вхождения x в срезе.\n",
    "Сложность: O(n).\n",
    "- `count(x)`\n",
    "Считает количество вхождений x.\n",
    "Сложность: O(n).\n",
    "- `sort(*, key=None, reverse=False)`\n",
    "Сортирует список на месте.\n",
    "Алгоритм **Timsort**: эффективен на реальных данных.\n",
    "Сложность: O(n log n).\n",
    "- `reverse()`\n",
    "Разворачивает список на месте.\n",
    "Сложность: O(n).\n",
    "- `copy()`\n",
    "Поверхностная копия списка (эквивалент L[:]).\n",
    "Сложность: O(n)."
   ]
  },
  {
   "cell_type": "code",
   "execution_count": null,
   "metadata": {
    "colab": {
     "base_uri": "https://localhost:8080/"
    },
    "executionInfo": {
     "elapsed": 27,
     "status": "ok",
     "timestamp": 1758656437836,
     "user": {
      "displayName": "Samir Akhmed",
      "userId": "13960222994132026390"
     },
     "user_tz": -180
    },
    "id": "kNSKEQkrFhPM",
    "outputId": "f4e5bef8-51f0-472d-93dc-77365072e9da"
   },
   "outputs": [
    {
     "name": "stdout",
     "output_type": "stream",
     "text": [
      "append: [3, 1, 4, 1, 9]\n",
      "sort: [1, 1, 3, 4, 9]\n",
      "pop: 9\n",
      "insert at 0: [100, 1, 1, 3, 4]\n",
      "extend: [100, 1, 1, 3, 4, 7, 8]\n",
      "['append', 'clear', 'copy', 'count', 'extend', 'index', 'insert', 'pop', 'remove', 'reverse', 'sort']\n"
     ]
    }
   ],
   "source": [
    "L=[3,1,4,1]\n",
    "L.append(9)\n",
    "print('append:', L)\n",
    "L.sort()\n",
    "print('sort:', L)\n",
    "print('pop:', L.pop())\n",
    "L.insert(0, 100)\n",
    "print('insert at 0:', L)\n",
    "L.extend([7,8])\n",
    "print('extend:', L)\n",
    "print([method for method in dir(L) if not method.startswith('__')])"
   ]
  },
  {
   "cell_type": "code",
   "execution_count": null,
   "metadata": {
    "id": "bNUh4ieUFl7J"
   },
   "outputs": [],
   "source": []
  },
  {
   "cell_type": "markdown",
   "metadata": {
    "id": "4s_IUHc-F90o"
   },
   "source": [
    "### 5. Распаковка, star-operator"
   ]
  },
  {
   "cell_type": "markdown",
   "metadata": {
    "id": "xNqZh9G1HB3n"
   },
   "source": [
    "#### Можно «распаковать» коллекцию в переменные:"
   ]
  },
  {
   "cell_type": "code",
   "execution_count": null,
   "metadata": {
    "id": "RRdT6YGgIE9j"
   },
   "outputs": [],
   "source": [
    "import dis"
   ]
  },
  {
   "cell_type": "code",
   "execution_count": null,
   "metadata": {
    "colab": {
     "base_uri": "https://localhost:8080/"
    },
    "executionInfo": {
     "elapsed": 52,
     "status": "ok",
     "timestamp": 1758656746815,
     "user": {
      "displayName": "Samir Akhmed",
      "userId": "13960222994132026390"
     },
     "user_tz": -180
    },
    "id": "laYIxJK1HC3A",
    "outputId": "72a167a5-4840-4240-e59a-421823f6f378"
   },
   "outputs": [
    {
     "name": "stdout",
     "output_type": "stream",
     "text": [
      "1 2 3\n"
     ]
    }
   ],
   "source": [
    "a, b, c = [1, 2, 3]\n",
    "print(a, b, c)   # 1 2 3"
   ]
  },
  {
   "cell_type": "markdown",
   "metadata": {
    "id": "7nge3eX7I4Ts"
   },
   "source": [
    "##### Что происходит под капотом\n",
    "\n",
    "- `RESUME 0` — служебная точка входа в фрейм (c Python 3.11+).\n",
    "- `BUILD_LIST 0` — создаётся пустой список [].\n",
    "- `LOAD_CONST 0 ((1, 2, 3))` — грузится кортеж (1, 2, 3) из пулa констант.\n",
    "Почему не список? Компилятор CPython хранит литеральные константы как кортежи (иммутабельные), а уже потом превращает их в список, если надо.\n",
    "- `LIST_EXTEND 1` — быстрый опкод «расширь текущий список содержимым из 1 источника».\n",
    "В итоге из пустого списка и кортежа получается список [1, 2, 3]. Это быстрее, чем вызывать метод list.extend обычным вызовом.\n",
    "- `UNPACK_SEQUENCE 3` — попытка распаковать ровно 3 элемента из RHS.\n",
    "- `STORE_NAME a`, `STORE_NAME b`, `STORE_NAME c` — сработали бы, если бы распаковка прошла успешно.\n",
    "- `RETURN_CONST None` — вернуть `None` из кода модуля/ячейки."
   ]
  },
  {
   "cell_type": "code",
   "execution_count": null,
   "metadata": {
    "colab": {
     "base_uri": "https://localhost:8080/"
    },
    "executionInfo": {
     "elapsed": 26,
     "status": "ok",
     "timestamp": 1758657026123,
     "user": {
      "displayName": "Samir Akhmed",
      "userId": "13960222994132026390"
     },
     "user_tz": -180
    },
    "id": "ibXIOIKrIGyk",
    "outputId": "5cc9f33a-838a-4411-9b39-02ee50d74d38"
   },
   "outputs": [
    {
     "name": "stdout",
     "output_type": "stream",
     "text": [
      "  0           0 RESUME                   0\n",
      "\n",
      "  1           2 BUILD_LIST               0\n",
      "              4 LOAD_CONST               0 ((1, 2, 3))\n",
      "              6 LIST_EXTEND              1\n",
      "              8 UNPACK_SEQUENCE          3\n",
      "             12 STORE_NAME               0 (a)\n",
      "             14 STORE_NAME               1 (b)\n",
      "             16 STORE_NAME               2 (c)\n",
      "             18 RETURN_CONST             1 (None)\n"
     ]
    }
   ],
   "source": [
    "dis.dis(\"\"\"\\\n",
    "a, b, c = [1, 2, 3]\n",
    "\"\"\")"
   ]
  },
  {
   "cell_type": "markdown",
   "metadata": {
    "id": "XkPTn7B3HLXx"
   },
   "source": [
    "Если количество переменных не совпадает с длиной списка/кортежа → ошибка:"
   ]
  },
  {
   "cell_type": "code",
   "execution_count": null,
   "metadata": {
    "colab": {
     "base_uri": "https://localhost:8080/",
     "height": 144
    },
    "executionInfo": {
     "elapsed": 44,
     "status": "error",
     "timestamp": 1758656761697,
     "user": {
      "displayName": "Samir Akhmed",
      "userId": "13960222994132026390"
     },
     "user_tz": -180
    },
    "id": "gOmYIYpZHIpN",
    "outputId": "a058223d-697e-46d1-dcbd-c1c9878fcacf"
   },
   "outputs": [
    {
     "ename": "ValueError",
     "evalue": "too many values to unpack (expected 2)",
     "output_type": "error",
     "traceback": [
      "\u001b[0;31m---------------------------------------------------------------------------\u001b[0m",
      "\u001b[0;31mValueError\u001b[0m                                Traceback (most recent call last)",
      "\u001b[0;32m/tmp/ipython-input-2319625389.py\u001b[0m in \u001b[0;36m<cell line: 0>\u001b[0;34m()\u001b[0m\n\u001b[0;32m----> 1\u001b[0;31m \u001b[0ma\u001b[0m\u001b[0;34m,\u001b[0m \u001b[0mb\u001b[0m \u001b[0;34m=\u001b[0m \u001b[0;34m[\u001b[0m\u001b[0;36m1\u001b[0m\u001b[0;34m,\u001b[0m \u001b[0;36m2\u001b[0m\u001b[0;34m,\u001b[0m \u001b[0;36m3\u001b[0m\u001b[0;34m]\u001b[0m   \u001b[0;31m# ValueError\u001b[0m\u001b[0;34m\u001b[0m\u001b[0;34m\u001b[0m\u001b[0m\n\u001b[0m",
      "\u001b[0;31mValueError\u001b[0m: too many values to unpack (expected 2)"
     ]
    }
   ],
   "source": [
    "a, b = [1, 2, 3]   # ValueError"
   ]
  },
  {
   "cell_type": "markdown",
   "metadata": {
    "id": "xYzOjXkWJav7"
   },
   "source": [
    "##### Под капотом\n",
    "\n",
    "- `RESUME 0` — служебная точка входа в фрейм (c Python 3.11+).\n",
    "- `BUILD_LIST 0` — создаётся пустой список [].\n",
    "- `LOAD_CONST 0 ((1, 2, 3))` — грузится кортеж `(1, 2, 3)` из пулa констант.\n",
    "Почему не список? Компилятор CPython хранит литеральные константы как кортежи (иммутабельные), а уже потом превращает их в список, если надо.\n",
    "- `LIST_EXTEND 1` — быстрый опкод «расширь текущий список содержимым из 1 источника».\n",
    "В итоге из пустого списка и кортежа получается список [1, 2, 3]. Это быстрее, чем вызывать метод list.extend обычным вызовом.\n",
    "- `UNPACK_SEQUENCE 2` — попытка распаковать ровно 2 элемента из RHS.\n",
    "Здесь на рантайме и произойдёт ошибка: у RHS три элемента, слева два имени →\n",
    "`ValueError: too many values to unpack (expected 2)`.\n",
    "- `STORE_NAME a`, `STORE_NAME b` — сработали бы, если бы распаковка прошла успешно.\n",
    "- `RETURN_CONST None` — вернуть `None `из кода модуля/ячейки."
   ]
  },
  {
   "cell_type": "code",
   "execution_count": null,
   "metadata": {
    "colab": {
     "base_uri": "https://localhost:8080/"
    },
    "executionInfo": {
     "elapsed": 55,
     "status": "ok",
     "timestamp": 1758657139339,
     "user": {
      "displayName": "Samir Akhmed",
      "userId": "13960222994132026390"
     },
     "user_tz": -180
    },
    "id": "0v-dC5MxIOF-",
    "outputId": "80da0062-0c08-4b22-8bcb-449e8e02ae5c"
   },
   "outputs": [
    {
     "name": "stdout",
     "output_type": "stream",
     "text": [
      "  0           0 RESUME                   0\n",
      "\n",
      "  1           2 BUILD_LIST               0\n",
      "              4 LOAD_CONST               0 ((1, 2, 3))\n",
      "              6 LIST_EXTEND              1\n",
      "              8 UNPACK_SEQUENCE          2\n",
      "             12 STORE_NAME               0 (a)\n",
      "             14 STORE_NAME               1 (b)\n",
      "             16 RETURN_CONST             1 (None)\n"
     ]
    }
   ],
   "source": [
    "dis.dis(\"\"\"\\\n",
    "a, b = [1, 2, 3]\n",
    "\"\"\")"
   ]
  },
  {
   "cell_type": "markdown",
   "metadata": {
    "id": "SVzgDciJHL_r"
   },
   "source": [
    "#### Можно использовать * для «схлопывания» остатка значений в список."
   ]
  },
  {
   "cell_type": "code",
   "execution_count": null,
   "metadata": {
    "colab": {
     "base_uri": "https://localhost:8080/"
    },
    "executionInfo": {
     "elapsed": 12,
     "status": "ok",
     "timestamp": 1758656802487,
     "user": {
      "displayName": "Samir Akhmed",
      "userId": "13960222994132026390"
     },
     "user_tz": -180
    },
    "id": "_Yujy0MoF-61",
    "outputId": "c904eed2-8e0d-4a86-c3a6-76702cb87b27"
   },
   "outputs": [
    {
     "name": "stdout",
     "output_type": "stream",
     "text": [
      "1 [2, 3, 4, 5] 6\n"
     ]
    }
   ],
   "source": [
    "first, *middle, last = list(range(1,7))\n",
    "print(first, middle, last)"
   ]
  },
  {
   "cell_type": "markdown",
   "metadata": {
    "id": "SfNuQV01J_xQ"
   },
   "source": [
    "##### Разбор по шагам (Python 3.11+ байткод):\n",
    "\n",
    "* `RESUME 0` — технический старт фрейма.\n",
    "\n",
    "* `PUSH_NULL` / `LOAD_NAME list` … `CALL 1`\n",
    "  Новый протокол вызова в 3.11: стек для вызова выглядит как `…, NULL, callable, arg1, …`.\n",
    "  Здесь последовательно вызываются:\n",
    "\n",
    "  1. `range(1, 7)` → `CALL 2` (два позиционных аргумента),\n",
    "  2. `list(<range>)` → `CALL 1` (один аргумент).\n",
    "\n",
    "* `EXTENDED_ARG 1` + `UNPACK_EX 257`\n",
    "  `UNPACK_EX` — распаковка с «хвостом» (`*middle`).\n",
    "  Аргумент кодирует количество обязательных слева и справа:\n",
    "\n",
    "  ```\n",
    "  oparg = before + (after << 8)\n",
    "  ```\n",
    "\n",
    "  Здесь `257 = 1 + (1 << 8)`, то есть:\n",
    "\n",
    "  * `before = 1`  → слева один обязательный (`first`)\n",
    "  * `after  = 1`  → справа один обязательный (`last`)\n",
    "    Всё «между» собирается в список `middle` (может быть пустым).\n",
    "\n",
    "* `STORE_NAME first`, `STORE_NAME middle`, `STORE_NAME last` — сохранить результаты распаковки.\n",
    "\n",
    "* `RETURN_CONST None` — вернуть `None` из модуля/ячейки.\n",
    "\n",
    "##### Семантика `UNPACK_EX`\n",
    "\n",
    "* Требует, чтобы у источника было **как минимум** `before + after` элементов,\n",
    "* Размещает первые `before` по именам слева,\n",
    "* Последние `after` — по именам справа,\n",
    "* Остаток (если есть) сворачивает в **список** для звёздочной переменной.\n",
    "* Если элементов **меньше**, чем `before + after` → `ValueError: not enough values to unpack`."
   ]
  },
  {
   "cell_type": "code",
   "execution_count": null,
   "metadata": {
    "colab": {
     "base_uri": "https://localhost:8080/"
    },
    "executionInfo": {
     "elapsed": 11,
     "status": "ok",
     "timestamp": 1758657152503,
     "user": {
      "displayName": "Samir Akhmed",
      "userId": "13960222994132026390"
     },
     "user_tz": -180
    },
    "id": "t050tvlcIl4j",
    "outputId": "24a493e3-fa67-4ca2-8293-c7cc4318c50b"
   },
   "outputs": [
    {
     "name": "stdout",
     "output_type": "stream",
     "text": [
      "  0           0 RESUME                   0\n",
      "\n",
      "  1           2 PUSH_NULL\n",
      "              4 LOAD_NAME                0 (list)\n",
      "              6 PUSH_NULL\n",
      "              8 LOAD_NAME                1 (range)\n",
      "             10 LOAD_CONST               0 (1)\n",
      "             12 LOAD_CONST               1 (7)\n",
      "             14 CALL                     2\n",
      "             22 CALL                     1\n",
      "             30 EXTENDED_ARG             1\n",
      "             32 UNPACK_EX              257\n",
      "             34 STORE_NAME               2 (first)\n",
      "             36 STORE_NAME               3 (middle)\n",
      "             38 STORE_NAME               4 (last)\n",
      "             40 RETURN_CONST             2 (None)\n"
     ]
    }
   ],
   "source": [
    "dis.dis(\"\"\"\\\n",
    "first, *middle, last = list(range(1,7))\n",
    "\"\"\")"
   ]
  },
  {
   "cell_type": "code",
   "execution_count": null,
   "metadata": {
    "colab": {
     "base_uri": "https://localhost:8080/"
    },
    "executionInfo": {
     "elapsed": 9,
     "status": "ok",
     "timestamp": 1758656815270,
     "user": {
      "displayName": "Samir Akhmed",
      "userId": "13960222994132026390"
     },
     "user_tz": -180
    },
    "id": "bc2vJCZVHVyz",
    "outputId": "27b93698-d706-4a42-da0f-f0efc0863bc2"
   },
   "outputs": [
    {
     "name": "stdout",
     "output_type": "stream",
     "text": [
      "[1, 2, 3] 4\n"
     ]
    }
   ],
   "source": [
    "*head, tail = [1, 2, 3, 4]\n",
    "print(head, tail)  # [1, 2, 3] 4"
   ]
  },
  {
   "cell_type": "code",
   "execution_count": null,
   "metadata": {
    "colab": {
     "base_uri": "https://localhost:8080/"
    },
    "executionInfo": {
     "elapsed": 27,
     "status": "ok",
     "timestamp": 1758656824356,
     "user": {
      "displayName": "Samir Akhmed",
      "userId": "13960222994132026390"
     },
     "user_tz": -180
    },
    "id": "TRa0S7wtHWl_",
    "outputId": "9778fd05-ef48-40f6-e0f5-378b255eff92"
   },
   "outputs": [
    {
     "name": "stdout",
     "output_type": "stream",
     "text": [
      "1 [2, 3] 4 5\n"
     ]
    }
   ],
   "source": [
    "a, *b, c, d = [1, 2, 3, 4, 5]\n",
    "print(a, b, c, d)  # 1 [2, 3] 4 5"
   ]
  },
  {
   "cell_type": "markdown",
   "metadata": {
    "id": "Atq42m7GHqP7"
   },
   "source": [
    "#### Объединение списков через *"
   ]
  },
  {
   "cell_type": "code",
   "execution_count": null,
   "metadata": {
    "colab": {
     "base_uri": "https://localhost:8080/"
    },
    "executionInfo": {
     "elapsed": 50,
     "status": "ok",
     "timestamp": 1758656909817,
     "user": {
      "displayName": "Samir Akhmed",
      "userId": "13960222994132026390"
     },
     "user_tz": -180
    },
    "id": "2L45Gs1pHrSC",
    "outputId": "b7764809-7a95-4516-86c9-c08b245f814f"
   },
   "outputs": [
    {
     "name": "stdout",
     "output_type": "stream",
     "text": [
      "[1, 2, 3, 4, 5, 6, 7]\n"
     ]
    }
   ],
   "source": [
    "a = [1, 2, 3]\n",
    "b = [4, 5]\n",
    "merged = [*a, *b, 6, 7]\n",
    "print(merged)   # [1, 2, 3, 4, 5, 6, 7]"
   ]
  },
  {
   "cell_type": "markdown",
   "metadata": {
    "id": "lkUxOePeKp23"
   },
   "source": [
    "##### Под капотом\n"
   ]
  },
  {
   "cell_type": "code",
   "execution_count": null,
   "metadata": {
    "colab": {
     "base_uri": "https://localhost:8080/"
    },
    "executionInfo": {
     "elapsed": 53,
     "status": "ok",
     "timestamp": 1758657704706,
     "user": {
      "displayName": "Samir Akhmed",
      "userId": "13960222994132026390"
     },
     "user_tz": -180
    },
    "id": "DG-zefNHKpVv",
    "outputId": "1375dd7e-dabd-48ec-97bb-c993d7e3961f"
   },
   "outputs": [
    {
     "name": "stdout",
     "output_type": "stream",
     "text": [
      "  0           0 RESUME                   0\n",
      "\n",
      "  1           2 BUILD_LIST               0\n",
      "              4 LOAD_CONST               0 ((1, 2, 3))\n",
      "              6 LIST_EXTEND              1\n",
      "              8 STORE_NAME               0 (a)\n",
      "\n",
      "  2          10 LOAD_CONST               1 (4)\n",
      "             12 LOAD_CONST               2 (5)\n",
      "             14 BUILD_LIST               2\n",
      "             16 STORE_NAME               1 (b)\n",
      "\n",
      "  3          18 BUILD_LIST               0\n",
      "             20 LOAD_NAME                0 (a)\n",
      "             22 LIST_EXTEND              1\n",
      "             24 LOAD_NAME                1 (b)\n",
      "             26 LIST_EXTEND              1\n",
      "             28 LOAD_CONST               3 (6)\n",
      "             30 LIST_APPEND              1\n",
      "             32 LOAD_CONST               4 (7)\n",
      "             34 LIST_APPEND              1\n",
      "             36 STORE_NAME               2 (merged)\n",
      "             38 RETURN_CONST             5 (None)\n"
     ]
    }
   ],
   "source": [
    "dis.dis(\"\"\"\\\n",
    "a = [1, 2, 3]\n",
    "b = [4, 5]\n",
    "merged = [*a, *b, 6, 7]\n",
    "\"\"\")"
   ]
  },
  {
   "cell_type": "markdown",
   "metadata": {
    "id": "CyyiRDMRHSb-"
   },
   "source": [
    "#### Swap без временной переменной"
   ]
  },
  {
   "cell_type": "code",
   "execution_count": null,
   "metadata": {
    "colab": {
     "base_uri": "https://localhost:8080/"
    },
    "executionInfo": {
     "elapsed": 9,
     "status": "ok",
     "timestamp": 1758656927282,
     "user": {
      "displayName": "Samir Akhmed",
      "userId": "13960222994132026390"
     },
     "user_tz": -180
    },
    "id": "7NT5_23dGASv",
    "outputId": "2bb9d646-f560-4899-e16b-b3ca74153a1b"
   },
   "outputs": [
    {
     "name": "stdout",
     "output_type": "stream",
     "text": [
      "2 1\n"
     ]
    }
   ],
   "source": [
    "x, y = 1, 2\n",
    "x, y = y, x\n",
    "print(x, y)   # 2 1"
   ]
  },
  {
   "cell_type": "markdown",
   "metadata": {
    "id": "YHtdWbZpIAgu"
   },
   "source": [
    "##### Что происходит под капотом"
   ]
  },
  {
   "cell_type": "code",
   "execution_count": null,
   "metadata": {
    "colab": {
     "base_uri": "https://localhost:8080/"
    },
    "executionInfo": {
     "elapsed": 27,
     "status": "ok",
     "timestamp": 1758656981535,
     "user": {
      "displayName": "Samir Akhmed",
      "userId": "13960222994132026390"
     },
     "user_tz": -180
    },
    "id": "8oY7d4JRHyHA",
    "outputId": "5c680771-0f5c-4a72-8306-280728f2aa76"
   },
   "outputs": [
    {
     "name": "stdout",
     "output_type": "stream",
     "text": [
      "  0           0 RESUME                   0\n",
      "\n",
      "  1           2 LOAD_CONST               0 ((1, 2))\n",
      "              4 UNPACK_SEQUENCE          2\n",
      "              8 STORE_NAME               0 (x)\n",
      "             10 STORE_NAME               1 (y)\n",
      "\n",
      "  2          12 LOAD_NAME                1 (y)\n",
      "             14 LOAD_NAME                0 (x)\n",
      "             16 SWAP                     2\n",
      "             18 STORE_NAME               0 (x)\n",
      "             20 STORE_NAME               1 (y)\n",
      "             22 RETURN_CONST             1 (None)\n"
     ]
    }
   ],
   "source": [
    "import dis\n",
    "\n",
    "dis.dis(\"\"\"\\\n",
    "x, y = 1, 2\n",
    "x, y = y, x\n",
    "\"\"\")"
   ]
  },
  {
   "cell_type": "code",
   "execution_count": null,
   "metadata": {
    "id": "RU-S93NTHxSh"
   },
   "outputs": [],
   "source": []
  },
  {
   "cell_type": "markdown",
   "metadata": {
    "id": "QUPuGJLLK_3C"
   },
   "source": [
    "### 7. Копирование: shallow vs deep"
   ]
  },
  {
   "cell_type": "code",
   "execution_count": null,
   "metadata": {
    "colab": {
     "base_uri": "https://localhost:8080/"
    },
    "executionInfo": {
     "elapsed": 28,
     "status": "ok",
     "timestamp": 1758657816589,
     "user": {
      "displayName": "Samir Akhmed",
      "userId": "13960222994132026390"
     },
     "user_tz": -180
    },
    "id": "7Cei4YOyLIMA",
    "outputId": "31cac45e-e33c-445a-e08d-fd7b7550a338"
   },
   "outputs": [
    {
     "name": "stdout",
     "output_type": "stream",
     "text": [
      "orig [[1, 2, 99], [3, 4]]\n",
      "shallow [[1, 2, 99], [3, 4]]\n",
      "deep [[1, 2], [3, 4]]\n"
     ]
    }
   ],
   "source": [
    "import copy\n",
    "orig=[[1,2],[3,4]]\n",
    "shallow=list(orig)\n",
    "deep=copy.deepcopy(orig)\n",
    "orig[0].append(99)\n",
    "print('orig', orig)\n",
    "print('shallow', shallow)\n",
    "print('deep', deep)"
   ]
  },
  {
   "cell_type": "code",
   "execution_count": null,
   "metadata": {
    "id": "PfQaSaEGLKaS"
   },
   "outputs": [],
   "source": []
  },
  {
   "cell_type": "markdown",
   "metadata": {
    "id": "gxJdIrBYLacG"
   },
   "source": [
    "### 8. Сортировка и bisect"
   ]
  },
  {
   "cell_type": "code",
   "execution_count": null,
   "metadata": {
    "id": "ywQ7mdYyL805"
   },
   "outputs": [],
   "source": [
    "import bisect"
   ]
  },
  {
   "cell_type": "markdown",
   "metadata": {
    "id": "2XEzU9wqLqVT"
   },
   "source": [
    "##### Основная идея\n",
    "\n",
    "Модуль `bisect` реализует двоичный поиск для нахождения позиции элемента в отсортированном списке.\n",
    "\n",
    "Подходит для:\n",
    "- поддержания отсортированного списка без полного sort(),\n",
    "- поиска «места вставки» для нового элемента,\n",
    "- реализации простых приоритетных структур."
   ]
  },
  {
   "cell_type": "markdown",
   "metadata": {
    "id": "Sir_kxleLzKi"
   },
   "source": [
    "`bisect_left(a, x, lo=0, hi=len(a))`\n",
    "- Возвращает индекс, куда можно вставить x, чтобы сохранить порядок.\n",
    "- Если x уже есть, вставка будет слева от существующих."
   ]
  },
  {
   "cell_type": "code",
   "execution_count": null,
   "metadata": {
    "colab": {
     "base_uri": "https://localhost:8080/"
    },
    "executionInfo": {
     "elapsed": 11,
     "status": "ok",
     "timestamp": 1758658029125,
     "user": {
      "displayName": "Samir Akhmed",
      "userId": "13960222994132026390"
     },
     "user_tz": -180
    },
    "id": "Nl_HMPonL4p6",
    "outputId": "bb805777-6afd-41e9-cfa1-8631d9de57d7"
   },
   "outputs": [
    {
     "name": "stdout",
     "output_type": "stream",
     "text": [
      "1\n",
      "3\n"
     ]
    }
   ],
   "source": [
    "a = [1, 3, 3, 5, 7]\n",
    "print(bisect.bisect_left(a, 3))  # 1\n",
    "print(bisect.bisect_left(a, 4))  # 3"
   ]
  },
  {
   "cell_type": "markdown",
   "metadata": {
    "id": "gpTWuikQL_jD"
   },
   "source": [
    "`bisect_right(a, x, lo=0, hi=len(a))` или просто `bisect`\n",
    "- То же самое, но вставка будет справа от существующих."
   ]
  },
  {
   "cell_type": "code",
   "execution_count": null,
   "metadata": {
    "colab": {
     "base_uri": "https://localhost:8080/"
    },
    "executionInfo": {
     "elapsed": 50,
     "status": "ok",
     "timestamp": 1758658069904,
     "user": {
      "displayName": "Samir Akhmed",
      "userId": "13960222994132026390"
     },
     "user_tz": -180
    },
    "id": "b6dDHtaZMGer",
    "outputId": "c167e280-d3ce-427d-ca23-4315524ccbb0"
   },
   "outputs": [
    {
     "name": "stdout",
     "output_type": "stream",
     "text": [
      "3\n",
      "3\n"
     ]
    }
   ],
   "source": [
    "print(bisect.bisect_right(a, 3))  # 3\n",
    "print(bisect.bisect(a, 3))        # 3 (синоним)"
   ]
  },
  {
   "cell_type": "markdown",
   "metadata": {
    "id": "w93nF758MXrT"
   },
   "source": [
    "`insort_left(a, x, lo=0, hi=len(a))`\n",
    "- Вставляет `x` в список `a` на позицию, найденную через `bisect_left`.\n",
    "- Сохраняет список отсортированным."
   ]
  },
  {
   "cell_type": "code",
   "execution_count": null,
   "metadata": {
    "colab": {
     "base_uri": "https://localhost:8080/"
    },
    "executionInfo": {
     "elapsed": 31,
     "status": "ok",
     "timestamp": 1758658165051,
     "user": {
      "displayName": "Samir Akhmed",
      "userId": "13960222994132026390"
     },
     "user_tz": -180
    },
    "id": "VYwx6bmYMYYi",
    "outputId": "66dd3da7-cf41-437c-b482-ed70a3affb33"
   },
   "outputs": [
    {
     "name": "stdout",
     "output_type": "stream",
     "text": [
      "[1, 3, 5, 6.5, 7]\n"
     ]
    }
   ],
   "source": [
    "b = [1, 3, 5, 7]\n",
    "bisect.insort(b, 6.5)\n",
    "print(b)  # [1, 3, 3, 5, 7]"
   ]
  },
  {
   "cell_type": "markdown",
   "metadata": {
    "id": "ZB4bvUwyM1rm"
   },
   "source": [
    "`insort_right(a, x, lo=0, hi=len(a)) или просто insort`\n",
    "- Вставляет элемент справа."
   ]
  },
  {
   "cell_type": "code",
   "execution_count": null,
   "metadata": {
    "colab": {
     "base_uri": "https://localhost:8080/"
    },
    "executionInfo": {
     "elapsed": 16,
     "status": "ok",
     "timestamp": 1758658270726,
     "user": {
      "displayName": "Samir Akhmed",
      "userId": "13960222994132026390"
     },
     "user_tz": -180
    },
    "id": "gXDZFMSIM3xy",
    "outputId": "21193665-0ca2-4113-b7c9-534933a333d4"
   },
   "outputs": [
    {
     "name": "stdout",
     "output_type": "stream",
     "text": [
      "[1, 3, 3, 5, 7]\n"
     ]
    }
   ],
   "source": [
    "b = [1, 3, 5, 7]\n",
    "bisect.insort(b, 3)\n",
    "print(b)  # [1, 3, 3, 5, 7]"
   ]
  },
  {
   "cell_type": "code",
   "execution_count": null,
   "metadata": {
    "colab": {
     "base_uri": "https://localhost:8080/"
    },
    "executionInfo": {
     "elapsed": 11,
     "status": "ok",
     "timestamp": 1758658284557,
     "user": {
      "displayName": "Samir Akhmed",
      "userId": "13960222994132026390"
     },
     "user_tz": -180
    },
    "id": "R8jOjW-JLcCX",
    "outputId": "177bb8cd-aa39-4bbc-8b50-47e31bcb9ab5"
   },
   "outputs": [
    {
     "name": "stdout",
     "output_type": "stream",
     "text": [
      "sorted by key: [('b', 1), ('a', 2)]\n"
     ]
    }
   ],
   "source": [
    "items=[('a',2),('b',1)]\n",
    "\n",
    "items.sort(key=lambda x: x[1])\n",
    "\n",
    "print('sorted by key:', items)"
   ]
  },
  {
   "cell_type": "markdown",
   "metadata": {
    "id": "ynFmkrOmNKgP"
   },
   "source": [
    "### 9. Бенчмарки (timeit)\n",
    "Сравним: list comprehension vs append loop, pop(0) vs deque.popleft, tuple vs list creation"
   ]
  },
  {
   "cell_type": "code",
   "execution_count": null,
   "metadata": {
    "id": "FIY5inIaNF4i"
   },
   "outputs": [],
   "source": [
    "import timeit\n",
    "\n",
    "N = 10000000"
   ]
  },
  {
   "cell_type": "code",
   "execution_count": null,
   "metadata": {
    "colab": {
     "base_uri": "https://localhost:8080/"
    },
    "executionInfo": {
     "elapsed": 6315,
     "status": "ok",
     "timestamp": 1758658484111,
     "user": {
      "displayName": "Samir Akhmed",
      "userId": "13960222994132026390"
     },
     "user_tz": -180
    },
    "id": "6j4hrMafNQMu",
    "outputId": "832c7283-319d-42fd-b50b-09d3faff8e60"
   },
   "outputs": [
    {
     "name": "stdout",
     "output_type": "stream",
     "text": [
      "this may take a few seconds...\n",
      "append loop: 3.3379533039997114\n",
      "list comp : 2.586453060999702\n"
     ]
    }
   ],
   "source": [
    "setup='N=10000000'\n",
    "print('this may take a few seconds...')\n",
    "t_append=timeit.timeit(\"L=[]\\nfor i in range(N): L.append(i)\", setup=setup, number=5)\n",
    "t_comp=timeit.timeit(\"L=[i for i in range(N)]\", setup=setup, number=5)\n",
    "print('append loop:', t_append)\n",
    "print('list comp :', t_comp)"
   ]
  },
  {
   "cell_type": "code",
   "execution_count": null,
   "metadata": {
    "colab": {
     "base_uri": "https://localhost:8080/"
    },
    "executionInfo": {
     "elapsed": 5399,
     "status": "ok",
     "timestamp": 1758658467370,
     "user": {
      "displayName": "Samir Akhmed",
      "userId": "13960222994132026390"
     },
     "user_tz": -180
    },
    "id": "uSH2IOD5NSiA",
    "outputId": "56f02b9e-5564-4ae5-e746-f476f2d81451"
   },
   "outputs": [
    {
     "name": "stdout",
     "output_type": "stream",
     "text": [
      "469 ms ± 28.9 ms per loop (mean ± std. dev. of 7 runs, 1 loop each)\n"
     ]
    }
   ],
   "source": [
    "%%timeit\n",
    "L=[]\n",
    "for i in range(N):\n",
    "   L.append(i)"
   ]
  },
  {
   "cell_type": "code",
   "execution_count": null,
   "metadata": {
    "colab": {
     "base_uri": "https://localhost:8080/"
    },
    "executionInfo": {
     "elapsed": 4677,
     "status": "ok",
     "timestamp": 1758658472072,
     "user": {
      "displayName": "Samir Akhmed",
      "userId": "13960222994132026390"
     },
     "user_tz": -180
    },
    "id": "z-OFR6QxNaS1",
    "outputId": "e5b7356b-e6ae-4ca2-d5c0-bf7983626a97"
   },
   "outputs": [
    {
     "name": "stdout",
     "output_type": "stream",
     "text": [
      "377 ms ± 5.8 ms per loop (mean ± std. dev. of 7 runs, 1 loop each)\n"
     ]
    }
   ],
   "source": [
    "%%timeit\n",
    "L=[i for i in range(N)]"
   ]
  },
  {
   "cell_type": "code",
   "execution_count": null,
   "metadata": {
    "colab": {
     "base_uri": "https://localhost:8080/"
    },
    "executionInfo": {
     "elapsed": 62,
     "status": "ok",
     "timestamp": 1758658503607,
     "user": {
      "displayName": "Samir Akhmed",
      "userId": "13960222994132026390"
     },
     "user_tz": -180
    },
    "id": "rPGuKqd4Ne_3",
    "outputId": "ba20e018-724c-4f84-f34d-3df5cc100e29"
   },
   "outputs": [
    {
     "name": "stdout",
     "output_type": "stream",
     "text": [
      "tuple(range): 0.014562248000402178 list(range): 0.011153278000165301\n"
     ]
    }
   ],
   "source": [
    "setup3='N=100000'\n",
    "t_tuple=timeit.timeit('t=tuple(range(N))', setup=setup3, number=5)\n",
    "t_list=timeit.timeit('l=list(range(N))', setup=setup3, number=5)\n",
    "print('tuple(range):', t_tuple, 'list(range):', t_list)"
   ]
  },
  {
   "cell_type": "code",
   "execution_count": null,
   "metadata": {
    "colab": {
     "base_uri": "https://localhost:8080/"
    },
    "executionInfo": {
     "elapsed": 4314,
     "status": "ok",
     "timestamp": 1758658522967,
     "user": {
      "displayName": "Samir Akhmed",
      "userId": "13960222994132026390"
     },
     "user_tz": -180
    },
    "id": "74IwsmBoNyHm",
    "outputId": "11f2d6ab-c346-42ec-f28a-422ed2c3d871"
   },
   "outputs": [
    {
     "name": "stdout",
     "output_type": "stream",
     "text": [
      "360 ms ± 62.9 ms per loop (mean ± std. dev. of 7 runs, 1 loop each)\n"
     ]
    }
   ],
   "source": [
    "%%timeit\n",
    "t = tuple(range(N))"
   ]
  },
  {
   "cell_type": "code",
   "execution_count": null,
   "metadata": {
    "colab": {
     "base_uri": "https://localhost:8080/"
    },
    "executionInfo": {
     "elapsed": 3236,
     "status": "ok",
     "timestamp": 1758658531417,
     "user": {
      "displayName": "Samir Akhmed",
      "userId": "13960222994132026390"
     },
     "user_tz": -180
    },
    "id": "uDymlsn8N1rE",
    "outputId": "05c8d9cd-93da-4101-86e6-7272613b4dd7"
   },
   "outputs": [
    {
     "name": "stdout",
     "output_type": "stream",
     "text": [
      "283 ms ± 7.24 ms per loop (mean ± std. dev. of 7 runs, 1 loop each)\n"
     ]
    }
   ],
   "source": [
    "%%timeit\n",
    "l = list(range(N))"
   ]
  },
  {
   "cell_type": "markdown",
   "metadata": {
    "id": "gGImEGEHN-fQ"
   },
   "source": [
    "## Задачки на прокачку\n",
    "1) Реализуйте chunks(lst, n) — генератор чанков длины n.\n",
    "2) Реализуйте flatten(nested) — итеративно.\n",
    "3) Объясните и исправьте [[None]*3]*3 проблему.\n",
    "4) Реализуйте unique_preserve_order(iterable)."
   ]
  },
  {
   "cell_type": "code",
   "execution_count": null,
   "metadata": {
    "id": "e57uORI7N3_i"
   },
   "outputs": [],
   "source": []
  }
 ],
 "metadata": {
  "colab": {
   "provenance": []
  },
  "kernelspec": {
   "display_name": "Python 3 (ipykernel)",
   "language": "python",
   "name": "python3"
  },
  "language_info": {
   "codemirror_mode": {
    "name": "ipython",
    "version": 3
   },
   "file_extension": ".py",
   "mimetype": "text/x-python",
   "name": "python",
   "nbconvert_exporter": "python",
   "pygments_lexer": "ipython3",
   "version": "3.14.0"
  }
 },
 "nbformat": 4,
 "nbformat_minor": 4
}
